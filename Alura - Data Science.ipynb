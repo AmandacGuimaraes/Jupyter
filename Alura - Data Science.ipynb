{
 "cells": [
  {
   "cell_type": "code",
   "execution_count": 5,
   "id": "dcd8da95",
   "metadata": {},
   "outputs": [
    {
     "data": {
      "text/html": [
       "<div>\n",
       "<style scoped>\n",
       "    .dataframe tbody tr th:only-of-type {\n",
       "        vertical-align: middle;\n",
       "    }\n",
       "\n",
       "    .dataframe tbody tr th {\n",
       "        vertical-align: top;\n",
       "    }\n",
       "\n",
       "    .dataframe thead th {\n",
       "        text-align: right;\n",
       "    }\n",
       "</style>\n",
       "<table border=\"1\" class=\"dataframe\">\n",
       "  <thead>\n",
       "    <tr style=\"text-align: right;\">\n",
       "      <th></th>\n",
       "      <th>userId</th>\n",
       "      <th>movieId</th>\n",
       "      <th>rating</th>\n",
       "      <th>timestamp</th>\n",
       "    </tr>\n",
       "  </thead>\n",
       "  <tbody>\n",
       "    <tr>\n",
       "      <th>0</th>\n",
       "      <td>1</td>\n",
       "      <td>1</td>\n",
       "      <td>4.0</td>\n",
       "      <td>964982703</td>\n",
       "    </tr>\n",
       "    <tr>\n",
       "      <th>1</th>\n",
       "      <td>1</td>\n",
       "      <td>3</td>\n",
       "      <td>4.0</td>\n",
       "      <td>964981247</td>\n",
       "    </tr>\n",
       "    <tr>\n",
       "      <th>2</th>\n",
       "      <td>1</td>\n",
       "      <td>6</td>\n",
       "      <td>4.0</td>\n",
       "      <td>964982224</td>\n",
       "    </tr>\n",
       "    <tr>\n",
       "      <th>3</th>\n",
       "      <td>1</td>\n",
       "      <td>47</td>\n",
       "      <td>5.0</td>\n",
       "      <td>964983815</td>\n",
       "    </tr>\n",
       "    <tr>\n",
       "      <th>4</th>\n",
       "      <td>1</td>\n",
       "      <td>50</td>\n",
       "      <td>5.0</td>\n",
       "      <td>964982931</td>\n",
       "    </tr>\n",
       "  </tbody>\n",
       "</table>\n",
       "</div>"
      ],
      "text/plain": [
       "   userId  movieId  rating  timestamp\n",
       "0       1        1     4.0  964982703\n",
       "1       1        3     4.0  964981247\n",
       "2       1        6     4.0  964982224\n",
       "3       1       47     5.0  964983815\n",
       "4       1       50     5.0  964982931"
      ]
     },
     "execution_count": 5,
     "metadata": {},
     "output_type": "execute_result"
    }
   ],
   "source": [
    "import pandas as pd\n",
    "notas=pd.read_csv(\"ratings.csv\")\n",
    "notas.head()"
   ]
  },
  {
   "cell_type": "code",
   "execution_count": 6,
   "id": "783dbc94",
   "metadata": {},
   "outputs": [
    {
     "data": {
      "text/plain": [
       "(100836, 4)"
      ]
     },
     "execution_count": 6,
     "metadata": {},
     "output_type": "execute_result"
    }
   ],
   "source": [
    "notas.shape"
   ]
  },
  {
   "cell_type": "code",
   "execution_count": 7,
   "id": "a9336ee3",
   "metadata": {},
   "outputs": [],
   "source": [
    "notas.columns = [\"usuarioId\", \"filmeId\", \"nota\", \"momento\"]"
   ]
  },
  {
   "cell_type": "code",
   "execution_count": 8,
   "id": "5c8a945e",
   "metadata": {},
   "outputs": [
    {
     "data": {
      "text/plain": [
       "0         4.0\n",
       "1         4.0\n",
       "2         4.0\n",
       "3         5.0\n",
       "4         5.0\n",
       "         ... \n",
       "100831    4.0\n",
       "100832    5.0\n",
       "100833    5.0\n",
       "100834    5.0\n",
       "100835    3.0\n",
       "Name: nota, Length: 100836, dtype: float64"
      ]
     },
     "execution_count": 8,
     "metadata": {},
     "output_type": "execute_result"
    }
   ],
   "source": [
    "notas['nota']"
   ]
  },
  {
   "cell_type": "code",
   "execution_count": 9,
   "id": "c952af1c",
   "metadata": {},
   "outputs": [
    {
     "data": {
      "text/plain": [
       "array([4. , 5. , 3. , 2. , 1. , 4.5, 3.5, 2.5, 0.5, 1.5])"
      ]
     },
     "execution_count": 9,
     "metadata": {},
     "output_type": "execute_result"
    }
   ],
   "source": [
    "notas['nota'].unique()"
   ]
  },
  {
   "cell_type": "code",
   "execution_count": 10,
   "id": "f957dbc0",
   "metadata": {},
   "outputs": [
    {
     "data": {
      "text/plain": [
       "4.0    26818\n",
       "3.0    20047\n",
       "5.0    13211\n",
       "3.5    13136\n",
       "4.5     8551\n",
       "2.0     7551\n",
       "2.5     5550\n",
       "1.0     2811\n",
       "1.5     1791\n",
       "0.5     1370\n",
       "Name: nota, dtype: int64"
      ]
     },
     "execution_count": 10,
     "metadata": {},
     "output_type": "execute_result"
    }
   ],
   "source": [
    "notas['nota'].value_counts()"
   ]
  },
  {
   "cell_type": "code",
   "execution_count": 11,
   "id": "3a873648",
   "metadata": {},
   "outputs": [
    {
     "data": {
      "text/plain": [
       "3.501556983616962"
      ]
     },
     "execution_count": 11,
     "metadata": {},
     "output_type": "execute_result"
    }
   ],
   "source": [
    "notas['nota'].mean()"
   ]
  },
  {
   "cell_type": "code",
   "execution_count": 12,
   "id": "2853c93f",
   "metadata": {},
   "outputs": [
    {
     "data": {
      "text/plain": [
       "0         4.0\n",
       "1         4.0\n",
       "2         4.0\n",
       "3         5.0\n",
       "4         5.0\n",
       "         ... \n",
       "100831    4.0\n",
       "100832    5.0\n",
       "100833    5.0\n",
       "100834    5.0\n",
       "100835    3.0\n",
       "Name: nota, Length: 100836, dtype: float64"
      ]
     },
     "execution_count": 12,
     "metadata": {},
     "output_type": "execute_result"
    }
   ],
   "source": [
    "notas.nota"
   ]
  },
  {
   "cell_type": "code",
   "execution_count": 13,
   "id": "8c72eb71",
   "metadata": {},
   "outputs": [
    {
     "data": {
      "text/plain": [
       "0    4.0\n",
       "1    4.0\n",
       "2    4.0\n",
       "3    5.0\n",
       "4    5.0\n",
       "Name: nota, dtype: float64"
      ]
     },
     "execution_count": 13,
     "metadata": {},
     "output_type": "execute_result"
    }
   ],
   "source": [
    "notas.nota.head()"
   ]
  },
  {
   "cell_type": "code",
   "execution_count": 14,
   "id": "a3c887bd",
   "metadata": {},
   "outputs": [
    {
     "data": {
      "text/plain": [
       "<AxesSubplot:>"
      ]
     },
     "execution_count": 14,
     "metadata": {},
     "output_type": "execute_result"
    },
    {
     "data": {
      "image/png": "[encoded data removed]",
      "text/plain": [
       "<Figure size 432x288 with 1 Axes>"
      ]
     },
     "metadata": {
      "needs_background": "light"
     },
     "output_type": "display_data"
    }
   ],
   "source": [
    "notas.nota.plot()"
   ]
  },
  {
   "cell_type": "code",
   "execution_count": 15,
   "id": "8514a0ac",
   "metadata": {},
   "outputs": [
    {
     "data": {
      "text/plain": [
       "<AxesSubplot:ylabel='Frequency'>"
      ]
     },
     "execution_count": 15,
     "metadata": {},
     "output_type": "execute_result"
    },
    {
     "data": {
      "image/png": "[encoded data removed]",
      "text/plain": [
       "<Figure size 432x288 with 1 Axes>"
      ]
     },
     "metadata": {
      "needs_background": "light"
     },
     "output_type": "display_data"
    }
   ],
   "source": [
    "notas.nota.plot(kind = 'hist')"
   ]
  },
  {
   "cell_type": "code",
   "execution_count": 16,
   "id": "0a472bb7",
   "metadata": {},
   "outputs": [
    {
     "data": {
      "text/plain": [
       "<bound method NDFrame._add_numeric_operations.<locals>.median of 0         4.0\n",
       "1         4.0\n",
       "2         4.0\n",
       "3         5.0\n",
       "4         5.0\n",
       "         ... \n",
       "100831    4.0\n",
       "100832    5.0\n",
       "100833    5.0\n",
       "100834    5.0\n",
       "100835    3.0\n",
       "Name: nota, Length: 100836, dtype: float64>"
      ]
     },
     "execution_count": 16,
     "metadata": {},
     "output_type": "execute_result"
    }
   ],
   "source": [
    "notas.nota.median"
   ]
  },
  {
   "cell_type": "code",
   "execution_count": 17,
   "id": "a89301c0",
   "metadata": {},
   "outputs": [
    {
     "data": {
      "text/plain": [
       "count    100836.000000\n",
       "mean          3.501557\n",
       "std           1.042529\n",
       "min           0.500000\n",
       "25%           3.000000\n",
       "50%           3.500000\n",
       "75%           4.000000\n",
       "max           5.000000\n",
       "Name: nota, dtype: float64"
      ]
     },
     "execution_count": 17,
     "metadata": {},
     "output_type": "execute_result"
    }
   ],
   "source": [
    "notas.nota.describe()"
   ]
  },
  {
   "cell_type": "code",
   "execution_count": 18,
   "id": "f86fed40",
   "metadata": {},
   "outputs": [],
   "source": [
    "import seaborn as sns"
   ]
  },
  {
   "cell_type": "code",
   "execution_count": 19,
   "id": "4a4a071e",
   "metadata": {},
   "outputs": [
    {
     "name": "stderr",
     "output_type": "stream",
     "text": [
      "C:\\Users\\Amanda\\anaconda3\\lib\\site-packages\\seaborn\\_decorators.py:36: FutureWarning: Pass the following variable as a keyword arg: x. From version 0.12, the only valid positional argument will be `data`, and passing other arguments without an explicit keyword will result in an error or misinterpretation.\n",
      "  warnings.warn(\n"
     ]
    },
    {
     "data": {
      "text/plain": [
       "<AxesSubplot:xlabel='nota'>"
      ]
     },
     "execution_count": 19,
     "metadata": {},
     "output_type": "execute_result"
    },
    {
     "data": {
      "image/png": "[encoded data removed]",
      "text/plain": [
       "<Figure size 432x288 with 1 Axes>"
      ]
     },
     "metadata": {
      "needs_background": "light"
     },
     "output_type": "display_data"
    }
   ],
   "source": [
    "sns.boxplot(notas.nota)"
   ]
  },
  {
   "cell_type": "code",
   "execution_count": 26,
   "id": "ee09547e",
   "metadata": {},
   "outputs": [
    {
     "data": {
      "text/html": [
       "<div>\n",
       "<style scoped>\n",
       "    .dataframe tbody tr th:only-of-type {\n",
       "        vertical-align: middle;\n",
       "    }\n",
       "\n",
       "    .dataframe tbody tr th {\n",
       "        vertical-align: top;\n",
       "    }\n",
       "\n",
       "    .dataframe thead th {\n",
       "        text-align: right;\n",
       "    }\n",
       "</style>\n",
       "<table border=\"1\" class=\"dataframe\">\n",
       "  <thead>\n",
       "    <tr style=\"text-align: right;\">\n",
       "      <th></th>\n",
       "      <th>filmeId</th>\n",
       "      <th>titulo</th>\n",
       "      <th>generos</th>\n",
       "    </tr>\n",
       "  </thead>\n",
       "  <tbody>\n",
       "    <tr>\n",
       "      <th>0</th>\n",
       "      <td>1</td>\n",
       "      <td>Toy Story (1995)</td>\n",
       "      <td>Adventure|Animation|Children|Comedy|Fantasy</td>\n",
       "    </tr>\n",
       "    <tr>\n",
       "      <th>1</th>\n",
       "      <td>2</td>\n",
       "      <td>Jumanji (1995)</td>\n",
       "      <td>Adventure|Children|Fantasy</td>\n",
       "    </tr>\n",
       "    <tr>\n",
       "      <th>2</th>\n",
       "      <td>3</td>\n",
       "      <td>Grumpier Old Men (1995)</td>\n",
       "      <td>Comedy|Romance</td>\n",
       "    </tr>\n",
       "    <tr>\n",
       "      <th>3</th>\n",
       "      <td>4</td>\n",
       "      <td>Waiting to Exhale (1995)</td>\n",
       "      <td>Comedy|Drama|Romance</td>\n",
       "    </tr>\n",
       "    <tr>\n",
       "      <th>4</th>\n",
       "      <td>5</td>\n",
       "      <td>Father of the Bride Part II (1995)</td>\n",
       "      <td>Comedy</td>\n",
       "    </tr>\n",
       "  </tbody>\n",
       "</table>\n",
       "</div>"
      ],
      "text/plain": [
       "   filmeId                              titulo  \\\n",
       "0        1                    Toy Story (1995)   \n",
       "1        2                      Jumanji (1995)   \n",
       "2        3             Grumpier Old Men (1995)   \n",
       "3        4            Waiting to Exhale (1995)   \n",
       "4        5  Father of the Bride Part II (1995)   \n",
       "\n",
       "                                       generos  \n",
       "0  Adventure|Animation|Children|Comedy|Fantasy  \n",
       "1                   Adventure|Children|Fantasy  \n",
       "2                               Comedy|Romance  \n",
       "3                         Comedy|Drama|Romance  \n",
       "4                                       Comedy  "
      ]
     },
     "execution_count": 26,
     "metadata": {},
     "output_type": "execute_result"
    }
   ],
   "source": [
    "filmes=pd.read_csv(\"movies.csv\")\n",
    "filmes.columns = [\"filmeId\", \"titulo\", \"generos\"]\n",
    "filmes.head()"
   ]
  },
  {
   "cell_type": "code",
   "execution_count": 29,
   "id": "6fcba96e",
   "metadata": {},
   "outputs": [],
   "source": [
    "#Analisando algumas notas especificar por filme\n"
   ]
  },
  {
   "cell_type": "code",
   "execution_count": 30,
   "id": "ae2c5167",
   "metadata": {},
   "outputs": [
    {
     "data": {
      "text/plain": [
       "3.9209302325581397"
      ]
     },
     "execution_count": 30,
     "metadata": {},
     "output_type": "execute_result"
    }
   ],
   "source": [
    "notas.query(\"filmeId==1\").nota.mean()"
   ]
  },
  {
   "cell_type": "code",
   "execution_count": 31,
   "id": "05d93a4a",
   "metadata": {},
   "outputs": [
    {
     "data": {
      "text/plain": [
       "3.4318181818181817"
      ]
     },
     "execution_count": 31,
     "metadata": {},
     "output_type": "execute_result"
    }
   ],
   "source": [
    "notas.query(\"filmeId==2\").nota.mean()"
   ]
  },
  {
   "cell_type": "code",
   "execution_count": 32,
   "id": "5cfa1ccd",
   "metadata": {},
   "outputs": [
    {
     "data": {
      "text/plain": [
       "<pandas.core.groupby.generic.DataFrameGroupBy object at 0x000002CC20AC9DF0>"
      ]
     },
     "execution_count": 32,
     "metadata": {},
     "output_type": "execute_result"
    }
   ],
   "source": [
    "notas.groupby(\"filmeId\")"
   ]
  },
  {
   "cell_type": "code",
   "execution_count": 33,
   "id": "8e163783",
   "metadata": {},
   "outputs": [
    {
     "data": {
      "text/html": [
       "<div>\n",
       "<style scoped>\n",
       "    .dataframe tbody tr th:only-of-type {\n",
       "        vertical-align: middle;\n",
       "    }\n",
       "\n",
       "    .dataframe tbody tr th {\n",
       "        vertical-align: top;\n",
       "    }\n",
       "\n",
       "    .dataframe thead th {\n",
       "        text-align: right;\n",
       "    }\n",
       "</style>\n",
       "<table border=\"1\" class=\"dataframe\">\n",
       "  <thead>\n",
       "    <tr style=\"text-align: right;\">\n",
       "      <th></th>\n",
       "      <th>usuarioId</th>\n",
       "      <th>nota</th>\n",
       "      <th>momento</th>\n",
       "    </tr>\n",
       "    <tr>\n",
       "      <th>filmeId</th>\n",
       "      <th></th>\n",
       "      <th></th>\n",
       "      <th></th>\n",
       "    </tr>\n",
       "  </thead>\n",
       "  <tbody>\n",
       "    <tr>\n",
       "      <th>1</th>\n",
       "      <td>306.530233</td>\n",
       "      <td>3.920930</td>\n",
       "      <td>1.129835e+09</td>\n",
       "    </tr>\n",
       "    <tr>\n",
       "      <th>2</th>\n",
       "      <td>329.554545</td>\n",
       "      <td>3.431818</td>\n",
       "      <td>1.135805e+09</td>\n",
       "    </tr>\n",
       "    <tr>\n",
       "      <th>3</th>\n",
       "      <td>283.596154</td>\n",
       "      <td>3.259615</td>\n",
       "      <td>1.005110e+09</td>\n",
       "    </tr>\n",
       "    <tr>\n",
       "      <th>4</th>\n",
       "      <td>219.857143</td>\n",
       "      <td>2.357143</td>\n",
       "      <td>8.985789e+08</td>\n",
       "    </tr>\n",
       "    <tr>\n",
       "      <th>5</th>\n",
       "      <td>299.571429</td>\n",
       "      <td>3.071429</td>\n",
       "      <td>9.926643e+08</td>\n",
       "    </tr>\n",
       "    <tr>\n",
       "      <th>...</th>\n",
       "      <td>...</td>\n",
       "      <td>...</td>\n",
       "      <td>...</td>\n",
       "    </tr>\n",
       "    <tr>\n",
       "      <th>193581</th>\n",
       "      <td>184.000000</td>\n",
       "      <td>4.000000</td>\n",
       "      <td>1.537109e+09</td>\n",
       "    </tr>\n",
       "    <tr>\n",
       "      <th>193583</th>\n",
       "      <td>184.000000</td>\n",
       "      <td>3.500000</td>\n",
       "      <td>1.537110e+09</td>\n",
       "    </tr>\n",
       "    <tr>\n",
       "      <th>193585</th>\n",
       "      <td>184.000000</td>\n",
       "      <td>3.500000</td>\n",
       "      <td>1.537110e+09</td>\n",
       "    </tr>\n",
       "    <tr>\n",
       "      <th>193587</th>\n",
       "      <td>184.000000</td>\n",
       "      <td>3.500000</td>\n",
       "      <td>1.537110e+09</td>\n",
       "    </tr>\n",
       "    <tr>\n",
       "      <th>193609</th>\n",
       "      <td>331.000000</td>\n",
       "      <td>4.000000</td>\n",
       "      <td>1.537158e+09</td>\n",
       "    </tr>\n",
       "  </tbody>\n",
       "</table>\n",
       "<p>9724 rows × 3 columns</p>\n",
       "</div>"
      ],
      "text/plain": [
       "          usuarioId      nota       momento\n",
       "filmeId                                    \n",
       "1        306.530233  3.920930  1.129835e+09\n",
       "2        329.554545  3.431818  1.135805e+09\n",
       "3        283.596154  3.259615  1.005110e+09\n",
       "4        219.857143  2.357143  8.985789e+08\n",
       "5        299.571429  3.071429  9.926643e+08\n",
       "...             ...       ...           ...\n",
       "193581   184.000000  4.000000  1.537109e+09\n",
       "193583   184.000000  3.500000  1.537110e+09\n",
       "193585   184.000000  3.500000  1.537110e+09\n",
       "193587   184.000000  3.500000  1.537110e+09\n",
       "193609   331.000000  4.000000  1.537158e+09\n",
       "\n",
       "[9724 rows x 3 columns]"
      ]
     },
     "execution_count": 33,
     "metadata": {},
     "output_type": "execute_result"
    }
   ],
   "source": [
    "notas.groupby(\"filmeId\").mean()"
   ]
  },
  {
   "cell_type": "code",
   "execution_count": 39,
   "id": "dffe8931",
   "metadata": {},
   "outputs": [
    {
     "data": {
      "text/plain": [
       "filmeId\n",
       "1    3.920930\n",
       "2    3.431818\n",
       "3    3.259615\n",
       "4    2.357143\n",
       "5    3.071429\n",
       "Name: nota, dtype: float64"
      ]
     },
     "execution_count": 39,
     "metadata": {},
     "output_type": "execute_result"
    }
   ],
   "source": [
    "medias_por_filme=notas.groupby(\"filmeId\").mean().nota\n",
    "medias_por_filme.head()"
   ]
  },
  {
   "cell_type": "code",
   "execution_count": 41,
   "id": "69f099e8",
   "metadata": {},
   "outputs": [
    {
     "data": {
      "text/plain": [
       "<AxesSubplot:ylabel='Frequency'>"
      ]
     },
     "execution_count": 41,
     "metadata": {},
     "output_type": "execute_result"
    },
    {
     "data": {
      "image/png": "[encoded data removed]",
      "text/plain": [
       "<Figure size 432x288 with 1 Axes>"
      ]
     },
     "metadata": {
      "needs_background": "light"
     },
     "output_type": "display_data"
    }
   ],
   "source": [
    "medias_por_filme.plot(kind=\"hist\")"
   ]
  },
  {
   "cell_type": "code",
   "execution_count": 42,
   "id": "1ef01053",
   "metadata": {},
   "outputs": [
    {
     "name": "stderr",
     "output_type": "stream",
     "text": [
      "C:\\Users\\Amanda\\anaconda3\\lib\\site-packages\\seaborn\\_decorators.py:36: FutureWarning: Pass the following variable as a keyword arg: x. From version 0.12, the only valid positional argument will be `data`, and passing other arguments without an explicit keyword will result in an error or misinterpretation.\n",
      "  warnings.warn(\n"
     ]
    },
    {
     "data": {
      "text/plain": [
       "<AxesSubplot:xlabel='nota'>"
      ]
     },
     "execution_count": 42,
     "metadata": {},
     "output_type": "execute_result"
    },
    {
     "data": {
      "image/png": "[encoded data removed]",
      "text/plain": [
       "<Figure size 432x288 with 1 Axes>"
      ]
     },
     "metadata": {
      "needs_background": "light"
     },
     "output_type": "display_data"
    }
   ],
   "source": [
    "sns.boxplot(medias_por_filme)"
   ]
  },
  {
   "cell_type": "code",
   "execution_count": 45,
   "id": "2df2414b",
   "metadata": {},
   "outputs": [
    {
     "data": {
      "text/plain": [
       "count    9724.000000\n",
       "mean        3.262448\n",
       "std         0.869874\n",
       "min         0.500000\n",
       "25%         2.800000\n",
       "50%         3.416667\n",
       "75%         3.911765\n",
       "max         5.000000\n",
       "Name: nota, dtype: float64"
      ]
     },
     "execution_count": 45,
     "metadata": {},
     "output_type": "execute_result"
    }
   ],
   "source": [
    "medias_por_filme.describe()"
   ]
  },
  {
   "cell_type": "code",
   "execution_count": 46,
   "id": "60dd6f40",
   "metadata": {},
   "outputs": [
    {
     "name": "stderr",
     "output_type": "stream",
     "text": [
      "C:\\Users\\Amanda\\anaconda3\\lib\\site-packages\\seaborn\\distributions.py:2619: FutureWarning: `distplot` is a deprecated function and will be removed in a future version. Please adapt your code to use either `displot` (a figure-level function with similar flexibility) or `histplot` (an axes-level function for histograms).\n",
      "  warnings.warn(msg, FutureWarning)\n"
     ]
    },
    {
     "data": {
      "text/plain": [
       "<AxesSubplot:xlabel='nota', ylabel='Density'>"
      ]
     },
     "execution_count": 46,
     "metadata": {},
     "output_type": "execute_result"
    },
    {
     "data": {
      "image/png": "[encoded data removed]",
      "text/plain": [
       "<Figure size 432x288 with 1 Axes>"
      ]
     },
     "metadata": {
      "needs_background": "light"
     },
     "output_type": "display_data"
    }
   ],
   "source": [
    "sns.distplot(medias_por_filme)"
   ]
  },
  {
   "cell_type": "code",
   "execution_count": 47,
   "id": "bd718af7",
   "metadata": {},
   "outputs": [
    {
     "name": "stderr",
     "output_type": "stream",
     "text": [
      "C:\\Users\\Amanda\\anaconda3\\lib\\site-packages\\seaborn\\distributions.py:2619: FutureWarning: `distplot` is a deprecated function and will be removed in a future version. Please adapt your code to use either `displot` (a figure-level function with similar flexibility) or `histplot` (an axes-level function for histograms).\n",
      "  warnings.warn(msg, FutureWarning)\n"
     ]
    },
    {
     "data": {
      "text/plain": [
       "<AxesSubplot:xlabel='nota', ylabel='Density'>"
      ]
     },
     "execution_count": 47,
     "metadata": {},
     "output_type": "execute_result"
    },
    {
     "data": {
      "image/png": "[encoded data removed]",
      "text/plain": [
       "<Figure size 432x288 with 1 Axes>"
      ]
     },
     "metadata": {
      "needs_background": "light"
     },
     "output_type": "display_data"
    }
   ],
   "source": [
    "sns.distplot(medias_por_filme, bins=10)"
   ]
  },
  {
   "cell_type": "code",
   "execution_count": 48,
   "id": "0436fe86",
   "metadata": {},
   "outputs": [
    {
     "data": {
      "text/plain": [
       "Text(0.5, 1.0, 'Histograma das médias dos filmes')"
      ]
     },
     "execution_count": 48,
     "metadata": {},
     "output_type": "execute_result"
    },
    {
     "data": {
      "image/png": "[encoded data removed]",
      "text/plain": [
       "<Figure size 432x288 with 1 Axes>"
      ]
     },
     "metadata": {
      "needs_background": "light"
     },
     "output_type": "display_data"
    }
   ],
   "source": [
    "import matplotlib.pyplot as plt\n",
    "\n",
    "plt.hist(medias_por_filme)\n",
    "plt.title(\"Histograma das médias dos filmes\")"
   ]
  },
  {
   "cell_type": "code",
   "execution_count": 49,
   "id": "c18cace3",
   "metadata": {},
   "outputs": [
    {
     "data": {
      "text/plain": [
       "<AxesSubplot:ylabel='nota'>"
      ]
     },
     "execution_count": 49,
     "metadata": {},
     "output_type": "execute_result"
    },
    {
     "data": {
      "image/png": "[encoded data removed]",
      "text/plain": [
       "<Figure size 432x288 with 1 Axes>"
      ]
     },
     "metadata": {
      "needs_background": "light"
     },
     "output_type": "display_data"
    }
   ],
   "source": [
    "sns.boxplot(y=medias_por_filme)"
   ]
  },
  {
   "cell_type": "code",
   "execution_count": 50,
   "id": "c19574fe",
   "metadata": {},
   "outputs": [
    {
     "data": {
      "text/plain": [
       "<AxesSubplot:ylabel='nota'>"
      ]
     },
     "execution_count": 50,
     "metadata": {},
     "output_type": "execute_result"
    },
    {
     "data": {
      "image/png": "[encoded data removed]",
      "text/plain": [
       "<Figure size 360x576 with 1 Axes>"
      ]
     },
     "metadata": {
      "needs_background": "light"
     },
     "output_type": "display_data"
    }
   ],
   "source": [
    "import matplotlib.pyplot as plt\n",
    "\n",
    "plt.figure(figsize=(5,8))\n",
    "\n",
    "sns.boxplot(y=medias_por_filme)"
   ]
  },
  {
   "cell_type": "code",
   "execution_count": 2,
   "id": "6e0cb2e0",
   "metadata": {},
   "outputs": [],
   "source": [
    "import pandas as pd"
   ]
  },
  {
   "cell_type": "code",
   "execution_count": 4,
   "id": "9ea097e0",
   "metadata": {},
   "outputs": [
    {
     "data": {
      "text/html": [
       "<div>\n",
       "<style scoped>\n",
       "    .dataframe tbody tr th:only-of-type {\n",
       "        vertical-align: middle;\n",
       "    }\n",
       "\n",
       "    .dataframe tbody tr th {\n",
       "        vertical-align: top;\n",
       "    }\n",
       "\n",
       "    .dataframe thead th {\n",
       "        text-align: right;\n",
       "    }\n",
       "</style>\n",
       "<table border=\"1\" class=\"dataframe\">\n",
       "  <thead>\n",
       "    <tr style=\"text-align: right;\">\n",
       "      <th></th>\n",
       "      <th>budget</th>\n",
       "      <th>genres</th>\n",
       "      <th>homepage</th>\n",
       "      <th>id</th>\n",
       "      <th>keywords</th>\n",
       "      <th>original_language</th>\n",
       "      <th>original_title</th>\n",
       "      <th>overview</th>\n",
       "      <th>popularity</th>\n",
       "      <th>production_companies</th>\n",
       "      <th>production_countries</th>\n",
       "      <th>release_date</th>\n",
       "      <th>revenue</th>\n",
       "      <th>runtime</th>\n",
       "      <th>spoken_languages</th>\n",
       "      <th>status</th>\n",
       "      <th>tagline</th>\n",
       "      <th>title</th>\n",
       "      <th>vote_average</th>\n",
       "      <th>vote_count</th>\n",
       "    </tr>\n",
       "  </thead>\n",
       "  <tbody>\n",
       "    <tr>\n",
       "      <th>0</th>\n",
       "      <td>237000000</td>\n",
       "      <td>[{\"id\": 28, \"name\": \"Action\"}, {\"id\": 12, \"nam...</td>\n",
       "      <td>http://www.avatarmovie.com/</td>\n",
       "      <td>19995</td>\n",
       "      <td>[{\"id\": 1463, \"name\": \"culture clash\"}, {\"id\":...</td>\n",
       "      <td>en</td>\n",
       "      <td>Avatar</td>\n",
       "      <td>In the 22nd century, a paraplegic Marine is di...</td>\n",
       "      <td>150.437577</td>\n",
       "      <td>[{\"name\": \"Ingenious Film Partners\", \"id\": 289...</td>\n",
       "      <td>[{\"iso_3166_1\": \"US\", \"name\": \"United States o...</td>\n",
       "      <td>2009-12-10</td>\n",
       "      <td>2787965087</td>\n",
       "      <td>162.0</td>\n",
       "      <td>[{\"iso_639_1\": \"en\", \"name\": \"English\"}, {\"iso...</td>\n",
       "      <td>Released</td>\n",
       "      <td>Enter the World of Pandora.</td>\n",
       "      <td>Avatar</td>\n",
       "      <td>7.2</td>\n",
       "      <td>11800</td>\n",
       "    </tr>\n",
       "    <tr>\n",
       "      <th>1</th>\n",
       "      <td>300000000</td>\n",
       "      <td>[{\"id\": 12, \"name\": \"Adventure\"}, {\"id\": 14, \"...</td>\n",
       "      <td>http://disney.go.com/disneypictures/pirates/</td>\n",
       "      <td>285</td>\n",
       "      <td>[{\"id\": 270, \"name\": \"ocean\"}, {\"id\": 726, \"na...</td>\n",
       "      <td>en</td>\n",
       "      <td>Pirates of the Caribbean: At World's End</td>\n",
       "      <td>Captain Barbossa, long believed to be dead, ha...</td>\n",
       "      <td>139.082615</td>\n",
       "      <td>[{\"name\": \"Walt Disney Pictures\", \"id\": 2}, {\"...</td>\n",
       "      <td>[{\"iso_3166_1\": \"US\", \"name\": \"United States o...</td>\n",
       "      <td>2007-05-19</td>\n",
       "      <td>961000000</td>\n",
       "      <td>169.0</td>\n",
       "      <td>[{\"iso_639_1\": \"en\", \"name\": \"English\"}]</td>\n",
       "      <td>Released</td>\n",
       "      <td>At the end of the world, the adventure begins.</td>\n",
       "      <td>Pirates of the Caribbean: At World's End</td>\n",
       "      <td>6.9</td>\n",
       "      <td>4500</td>\n",
       "    </tr>\n",
       "    <tr>\n",
       "      <th>2</th>\n",
       "      <td>245000000</td>\n",
       "      <td>[{\"id\": 28, \"name\": \"Action\"}, {\"id\": 12, \"nam...</td>\n",
       "      <td>http://www.sonypictures.com/movies/spectre/</td>\n",
       "      <td>206647</td>\n",
       "      <td>[{\"id\": 470, \"name\": \"spy\"}, {\"id\": 818, \"name...</td>\n",
       "      <td>en</td>\n",
       "      <td>Spectre</td>\n",
       "      <td>A cryptic message from Bond’s past sends him o...</td>\n",
       "      <td>107.376788</td>\n",
       "      <td>[{\"name\": \"Columbia Pictures\", \"id\": 5}, {\"nam...</td>\n",
       "      <td>[{\"iso_3166_1\": \"GB\", \"name\": \"United Kingdom\"...</td>\n",
       "      <td>2015-10-26</td>\n",
       "      <td>880674609</td>\n",
       "      <td>148.0</td>\n",
       "      <td>[{\"iso_639_1\": \"fr\", \"name\": \"Fran\\u00e7ais\"},...</td>\n",
       "      <td>Released</td>\n",
       "      <td>A Plan No One Escapes</td>\n",
       "      <td>Spectre</td>\n",
       "      <td>6.3</td>\n",
       "      <td>4466</td>\n",
       "    </tr>\n",
       "    <tr>\n",
       "      <th>3</th>\n",
       "      <td>250000000</td>\n",
       "      <td>[{\"id\": 28, \"name\": \"Action\"}, {\"id\": 80, \"nam...</td>\n",
       "      <td>http://www.thedarkknightrises.com/</td>\n",
       "      <td>49026</td>\n",
       "      <td>[{\"id\": 849, \"name\": \"dc comics\"}, {\"id\": 853,...</td>\n",
       "      <td>en</td>\n",
       "      <td>The Dark Knight Rises</td>\n",
       "      <td>Following the death of District Attorney Harve...</td>\n",
       "      <td>112.312950</td>\n",
       "      <td>[{\"name\": \"Legendary Pictures\", \"id\": 923}, {\"...</td>\n",
       "      <td>[{\"iso_3166_1\": \"US\", \"name\": \"United States o...</td>\n",
       "      <td>2012-07-16</td>\n",
       "      <td>1084939099</td>\n",
       "      <td>165.0</td>\n",
       "      <td>[{\"iso_639_1\": \"en\", \"name\": \"English\"}]</td>\n",
       "      <td>Released</td>\n",
       "      <td>The Legend Ends</td>\n",
       "      <td>The Dark Knight Rises</td>\n",
       "      <td>7.6</td>\n",
       "      <td>9106</td>\n",
       "    </tr>\n",
       "    <tr>\n",
       "      <th>4</th>\n",
       "      <td>260000000</td>\n",
       "      <td>[{\"id\": 28, \"name\": \"Action\"}, {\"id\": 12, \"nam...</td>\n",
       "      <td>http://movies.disney.com/john-carter</td>\n",
       "      <td>49529</td>\n",
       "      <td>[{\"id\": 818, \"name\": \"based on novel\"}, {\"id\":...</td>\n",
       "      <td>en</td>\n",
       "      <td>John Carter</td>\n",
       "      <td>John Carter is a war-weary, former military ca...</td>\n",
       "      <td>43.926995</td>\n",
       "      <td>[{\"name\": \"Walt Disney Pictures\", \"id\": 2}]</td>\n",
       "      <td>[{\"iso_3166_1\": \"US\", \"name\": \"United States o...</td>\n",
       "      <td>2012-03-07</td>\n",
       "      <td>284139100</td>\n",
       "      <td>132.0</td>\n",
       "      <td>[{\"iso_639_1\": \"en\", \"name\": \"English\"}]</td>\n",
       "      <td>Released</td>\n",
       "      <td>Lost in our world, found in another.</td>\n",
       "      <td>John Carter</td>\n",
       "      <td>6.1</td>\n",
       "      <td>2124</td>\n",
       "    </tr>\n",
       "  </tbody>\n",
       "</table>\n",
       "</div>"
      ],
      "text/plain": [
       "      budget                                             genres  \\\n",
       "0  237000000  [{\"id\": 28, \"name\": \"Action\"}, {\"id\": 12, \"nam...   \n",
       "1  300000000  [{\"id\": 12, \"name\": \"Adventure\"}, {\"id\": 14, \"...   \n",
       "2  245000000  [{\"id\": 28, \"name\": \"Action\"}, {\"id\": 12, \"nam...   \n",
       "3  250000000  [{\"id\": 28, \"name\": \"Action\"}, {\"id\": 80, \"nam...   \n",
       "4  260000000  [{\"id\": 28, \"name\": \"Action\"}, {\"id\": 12, \"nam...   \n",
       "\n",
       "                                       homepage      id  \\\n",
       "0                   http://www.avatarmovie.com/   19995   \n",
       "1  http://disney.go.com/disneypictures/pirates/     285   \n",
       "2   http://www.sonypictures.com/movies/spectre/  206647   \n",
       "3            http://www.thedarkknightrises.com/   49026   \n",
       "4          http://movies.disney.com/john-carter   49529   \n",
       "\n",
       "                                            keywords original_language  \\\n",
       "0  [{\"id\": 1463, \"name\": \"culture clash\"}, {\"id\":...                en   \n",
       "1  [{\"id\": 270, \"name\": \"ocean\"}, {\"id\": 726, \"na...                en   \n",
       "2  [{\"id\": 470, \"name\": \"spy\"}, {\"id\": 818, \"name...                en   \n",
       "3  [{\"id\": 849, \"name\": \"dc comics\"}, {\"id\": 853,...                en   \n",
       "4  [{\"id\": 818, \"name\": \"based on novel\"}, {\"id\":...                en   \n",
       "\n",
       "                             original_title  \\\n",
       "0                                    Avatar   \n",
       "1  Pirates of the Caribbean: At World's End   \n",
       "2                                   Spectre   \n",
       "3                     The Dark Knight Rises   \n",
       "4                               John Carter   \n",
       "\n",
       "                                            overview  popularity  \\\n",
       "0  In the 22nd century, a paraplegic Marine is di...  150.437577   \n",
       "1  Captain Barbossa, long believed to be dead, ha...  139.082615   \n",
       "2  A cryptic message from Bond’s past sends him o...  107.376788   \n",
       "3  Following the death of District Attorney Harve...  112.312950   \n",
       "4  John Carter is a war-weary, former military ca...   43.926995   \n",
       "\n",
       "                                production_companies  \\\n",
       "0  [{\"name\": \"Ingenious Film Partners\", \"id\": 289...   \n",
       "1  [{\"name\": \"Walt Disney Pictures\", \"id\": 2}, {\"...   \n",
       "2  [{\"name\": \"Columbia Pictures\", \"id\": 5}, {\"nam...   \n",
       "3  [{\"name\": \"Legendary Pictures\", \"id\": 923}, {\"...   \n",
       "4        [{\"name\": \"Walt Disney Pictures\", \"id\": 2}]   \n",
       "\n",
       "                                production_countries release_date     revenue  \\\n",
       "0  [{\"iso_3166_1\": \"US\", \"name\": \"United States o...   2009-12-10  2787965087   \n",
       "1  [{\"iso_3166_1\": \"US\", \"name\": \"United States o...   2007-05-19   961000000   \n",
       "2  [{\"iso_3166_1\": \"GB\", \"name\": \"United Kingdom\"...   2015-10-26   880674609   \n",
       "3  [{\"iso_3166_1\": \"US\", \"name\": \"United States o...   2012-07-16  1084939099   \n",
       "4  [{\"iso_3166_1\": \"US\", \"name\": \"United States o...   2012-03-07   284139100   \n",
       "\n",
       "   runtime                                   spoken_languages    status  \\\n",
       "0    162.0  [{\"iso_639_1\": \"en\", \"name\": \"English\"}, {\"iso...  Released   \n",
       "1    169.0           [{\"iso_639_1\": \"en\", \"name\": \"English\"}]  Released   \n",
       "2    148.0  [{\"iso_639_1\": \"fr\", \"name\": \"Fran\\u00e7ais\"},...  Released   \n",
       "3    165.0           [{\"iso_639_1\": \"en\", \"name\": \"English\"}]  Released   \n",
       "4    132.0           [{\"iso_639_1\": \"en\", \"name\": \"English\"}]  Released   \n",
       "\n",
       "                                          tagline  \\\n",
       "0                     Enter the World of Pandora.   \n",
       "1  At the end of the world, the adventure begins.   \n",
       "2                           A Plan No One Escapes   \n",
       "3                                 The Legend Ends   \n",
       "4            Lost in our world, found in another.   \n",
       "\n",
       "                                      title  vote_average  vote_count  \n",
       "0                                    Avatar           7.2       11800  \n",
       "1  Pirates of the Caribbean: At World's End           6.9        4500  \n",
       "2                                   Spectre           6.3        4466  \n",
       "3                     The Dark Knight Rises           7.6        9106  \n",
       "4                               John Carter           6.1        2124  "
      ]
     },
     "execution_count": 4,
     "metadata": {},
     "output_type": "execute_result"
    }
   ],
   "source": [
    "tmdb = pd.read_csv(\"tmdb_5000_movies.csv\")\n",
    "tmdb.head()"
   ]
  },
  {
   "cell_type": "code",
   "execution_count": 5,
   "id": "4f7b9525",
   "metadata": {},
   "outputs": [
    {
     "data": {
      "text/plain": [
       "array(['en', 'ja', 'fr', 'zh', 'es', 'de', 'hi', 'ru', 'ko', 'te', 'cn',\n",
       "       'it', 'nl', 'ta', 'sv', 'th', 'da', 'xx', 'hu', 'cs', 'pt', 'is',\n",
       "       'tr', 'nb', 'af', 'pl', 'he', 'ar', 'vi', 'ky', 'id', 'ro', 'fa',\n",
       "       'no', 'sl', 'ps', 'el'], dtype=object)"
      ]
     },
     "execution_count": 5,
     "metadata": {},
     "output_type": "execute_result"
    }
   ],
   "source": [
    "tmdb.original_language.unique() #Categorica nominal"
   ]
  },
  {
   "cell_type": "code",
   "execution_count": null,
   "id": "5c2f6992",
   "metadata": {},
   "outputs": [],
   "source": [
    "#Categorica Ordinal (não faz operações aritmetrica)\n",
    "#Primeiro grau\n",
    "#Segundo grau\n",
    "#Terceiro grau\n",
    "#  1 grau < 2 grau < 3 grau"
   ]
  },
  {
   "cell_type": "code",
   "execution_count": null,
   "id": "636788a3",
   "metadata": {},
   "outputs": [],
   "source": [
    "#butget => Orçamento => Categoria quantitativa continuo"
   ]
  },
  {
   "cell_type": "code",
   "execution_count": null,
   "id": "bce4fe6d",
   "metadata": {},
   "outputs": [],
   "source": [
    "#quantitava intergalar\n",
    "#quantidade de votos => 1, 2, 3, 4, 5...\n",
    "#notas do movielens => 0.5, 1, 1.5, 2, 2.5..."
   ]
  },
  {
   "cell_type": "markdown",
   "id": "10fb52b3",
   "metadata": {},
   "source": [
    "tmdb[\"original_language"
   ]
  },
  {
   "cell_type": "code",
   "execution_count": 7,
   "id": "e9bd6db5",
   "metadata": {},
   "outputs": [
    {
     "data": {
      "text/plain": [
       "Index(['en', 'fr', 'es', 'zh', 'de', 'hi', 'ja', 'it', 'cn', 'ru', 'ko', 'pt',\n",
       "       'da', 'sv', 'nl', 'fa', 'th', 'he', 'ta', 'cs', 'ro', 'id', 'ar', 'vi',\n",
       "       'sl', 'ps', 'no', 'ky', 'hu', 'pl', 'af', 'nb', 'tr', 'is', 'xx', 'te',\n",
       "       'el'],\n",
       "      dtype='object')"
      ]
     },
     "execution_count": 7,
     "metadata": {},
     "output_type": "execute_result"
    }
   ],
   "source": [
    "tmdb[\"original_language\"].value_counts().index"
   ]
  },
  {
   "cell_type": "code",
   "execution_count": 8,
   "id": "7d287c11",
   "metadata": {},
   "outputs": [
    {
     "data": {
      "text/plain": [
       "array([4505,   70,   32,   27,   27,   19,   16,   14,   12,   11,   11,\n",
       "          9,    7,    5,    4,    4,    3,    3,    2,    2,    2,    2,\n",
       "          2,    1,    1,    1,    1,    1,    1,    1,    1,    1,    1,\n",
       "          1,    1,    1,    1], dtype=int64)"
      ]
     },
     "execution_count": 8,
     "metadata": {},
     "output_type": "execute_result"
    }
   ],
   "source": [
    "tmdb[\"original_language\"].value_counts().values"
   ]
  },
  {
   "cell_type": "code",
   "execution_count": 9,
   "id": "dccf1c92",
   "metadata": {},
   "outputs": [
    {
     "data": {
      "text/html": [
       "<div>\n",
       "<style scoped>\n",
       "    .dataframe tbody tr th:only-of-type {\n",
       "        vertical-align: middle;\n",
       "    }\n",
       "\n",
       "    .dataframe tbody tr th {\n",
       "        vertical-align: top;\n",
       "    }\n",
       "\n",
       "    .dataframe thead th {\n",
       "        text-align: right;\n",
       "    }\n",
       "</style>\n",
       "<table border=\"1\" class=\"dataframe\">\n",
       "  <thead>\n",
       "    <tr style=\"text-align: right;\">\n",
       "      <th></th>\n",
       "      <th>original_language</th>\n",
       "    </tr>\n",
       "  </thead>\n",
       "  <tbody>\n",
       "    <tr>\n",
       "      <th>en</th>\n",
       "      <td>4505</td>\n",
       "    </tr>\n",
       "    <tr>\n",
       "      <th>fr</th>\n",
       "      <td>70</td>\n",
       "    </tr>\n",
       "    <tr>\n",
       "      <th>es</th>\n",
       "      <td>32</td>\n",
       "    </tr>\n",
       "    <tr>\n",
       "      <th>zh</th>\n",
       "      <td>27</td>\n",
       "    </tr>\n",
       "    <tr>\n",
       "      <th>de</th>\n",
       "      <td>27</td>\n",
       "    </tr>\n",
       "    <tr>\n",
       "      <th>hi</th>\n",
       "      <td>19</td>\n",
       "    </tr>\n",
       "    <tr>\n",
       "      <th>ja</th>\n",
       "      <td>16</td>\n",
       "    </tr>\n",
       "    <tr>\n",
       "      <th>it</th>\n",
       "      <td>14</td>\n",
       "    </tr>\n",
       "    <tr>\n",
       "      <th>cn</th>\n",
       "      <td>12</td>\n",
       "    </tr>\n",
       "    <tr>\n",
       "      <th>ru</th>\n",
       "      <td>11</td>\n",
       "    </tr>\n",
       "    <tr>\n",
       "      <th>ko</th>\n",
       "      <td>11</td>\n",
       "    </tr>\n",
       "    <tr>\n",
       "      <th>pt</th>\n",
       "      <td>9</td>\n",
       "    </tr>\n",
       "    <tr>\n",
       "      <th>da</th>\n",
       "      <td>7</td>\n",
       "    </tr>\n",
       "    <tr>\n",
       "      <th>sv</th>\n",
       "      <td>5</td>\n",
       "    </tr>\n",
       "    <tr>\n",
       "      <th>nl</th>\n",
       "      <td>4</td>\n",
       "    </tr>\n",
       "    <tr>\n",
       "      <th>fa</th>\n",
       "      <td>4</td>\n",
       "    </tr>\n",
       "    <tr>\n",
       "      <th>th</th>\n",
       "      <td>3</td>\n",
       "    </tr>\n",
       "    <tr>\n",
       "      <th>he</th>\n",
       "      <td>3</td>\n",
       "    </tr>\n",
       "    <tr>\n",
       "      <th>ta</th>\n",
       "      <td>2</td>\n",
       "    </tr>\n",
       "    <tr>\n",
       "      <th>cs</th>\n",
       "      <td>2</td>\n",
       "    </tr>\n",
       "    <tr>\n",
       "      <th>ro</th>\n",
       "      <td>2</td>\n",
       "    </tr>\n",
       "    <tr>\n",
       "      <th>id</th>\n",
       "      <td>2</td>\n",
       "    </tr>\n",
       "    <tr>\n",
       "      <th>ar</th>\n",
       "      <td>2</td>\n",
       "    </tr>\n",
       "    <tr>\n",
       "      <th>vi</th>\n",
       "      <td>1</td>\n",
       "    </tr>\n",
       "    <tr>\n",
       "      <th>sl</th>\n",
       "      <td>1</td>\n",
       "    </tr>\n",
       "    <tr>\n",
       "      <th>ps</th>\n",
       "      <td>1</td>\n",
       "    </tr>\n",
       "    <tr>\n",
       "      <th>no</th>\n",
       "      <td>1</td>\n",
       "    </tr>\n",
       "    <tr>\n",
       "      <th>ky</th>\n",
       "      <td>1</td>\n",
       "    </tr>\n",
       "    <tr>\n",
       "      <th>hu</th>\n",
       "      <td>1</td>\n",
       "    </tr>\n",
       "    <tr>\n",
       "      <th>pl</th>\n",
       "      <td>1</td>\n",
       "    </tr>\n",
       "    <tr>\n",
       "      <th>af</th>\n",
       "      <td>1</td>\n",
       "    </tr>\n",
       "    <tr>\n",
       "      <th>nb</th>\n",
       "      <td>1</td>\n",
       "    </tr>\n",
       "    <tr>\n",
       "      <th>tr</th>\n",
       "      <td>1</td>\n",
       "    </tr>\n",
       "    <tr>\n",
       "      <th>is</th>\n",
       "      <td>1</td>\n",
       "    </tr>\n",
       "    <tr>\n",
       "      <th>xx</th>\n",
       "      <td>1</td>\n",
       "    </tr>\n",
       "    <tr>\n",
       "      <th>te</th>\n",
       "      <td>1</td>\n",
       "    </tr>\n",
       "    <tr>\n",
       "      <th>el</th>\n",
       "      <td>1</td>\n",
       "    </tr>\n",
       "  </tbody>\n",
       "</table>\n",
       "</div>"
      ],
      "text/plain": [
       "    original_language\n",
       "en               4505\n",
       "fr                 70\n",
       "es                 32\n",
       "zh                 27\n",
       "de                 27\n",
       "hi                 19\n",
       "ja                 16\n",
       "it                 14\n",
       "cn                 12\n",
       "ru                 11\n",
       "ko                 11\n",
       "pt                  9\n",
       "da                  7\n",
       "sv                  5\n",
       "nl                  4\n",
       "fa                  4\n",
       "th                  3\n",
       "he                  3\n",
       "ta                  2\n",
       "cs                  2\n",
       "ro                  2\n",
       "id                  2\n",
       "ar                  2\n",
       "vi                  1\n",
       "sl                  1\n",
       "ps                  1\n",
       "no                  1\n",
       "ky                  1\n",
       "hu                  1\n",
       "pl                  1\n",
       "af                  1\n",
       "nb                  1\n",
       "tr                  1\n",
       "is                  1\n",
       "xx                  1\n",
       "te                  1\n",
       "el                  1"
      ]
     },
     "execution_count": 9,
     "metadata": {},
     "output_type": "execute_result"
    }
   ],
   "source": [
    "tmdb[\"original_language\"].value_counts().to_frame()"
   ]
  },
  {
   "cell_type": "code",
   "execution_count": 10,
   "id": "39b46feb",
   "metadata": {},
   "outputs": [
    {
     "data": {
      "text/html": [
       "<div>\n",
       "<style scoped>\n",
       "    .dataframe tbody tr th:only-of-type {\n",
       "        vertical-align: middle;\n",
       "    }\n",
       "\n",
       "    .dataframe tbody tr th {\n",
       "        vertical-align: top;\n",
       "    }\n",
       "\n",
       "    .dataframe thead th {\n",
       "        text-align: right;\n",
       "    }\n",
       "</style>\n",
       "<table border=\"1\" class=\"dataframe\">\n",
       "  <thead>\n",
       "    <tr style=\"text-align: right;\">\n",
       "      <th></th>\n",
       "      <th>index</th>\n",
       "      <th>original_language</th>\n",
       "    </tr>\n",
       "  </thead>\n",
       "  <tbody>\n",
       "    <tr>\n",
       "      <th>0</th>\n",
       "      <td>en</td>\n",
       "      <td>4505</td>\n",
       "    </tr>\n",
       "    <tr>\n",
       "      <th>1</th>\n",
       "      <td>fr</td>\n",
       "      <td>70</td>\n",
       "    </tr>\n",
       "    <tr>\n",
       "      <th>2</th>\n",
       "      <td>es</td>\n",
       "      <td>32</td>\n",
       "    </tr>\n",
       "    <tr>\n",
       "      <th>3</th>\n",
       "      <td>zh</td>\n",
       "      <td>27</td>\n",
       "    </tr>\n",
       "    <tr>\n",
       "      <th>4</th>\n",
       "      <td>de</td>\n",
       "      <td>27</td>\n",
       "    </tr>\n",
       "    <tr>\n",
       "      <th>5</th>\n",
       "      <td>hi</td>\n",
       "      <td>19</td>\n",
       "    </tr>\n",
       "    <tr>\n",
       "      <th>6</th>\n",
       "      <td>ja</td>\n",
       "      <td>16</td>\n",
       "    </tr>\n",
       "    <tr>\n",
       "      <th>7</th>\n",
       "      <td>it</td>\n",
       "      <td>14</td>\n",
       "    </tr>\n",
       "    <tr>\n",
       "      <th>8</th>\n",
       "      <td>cn</td>\n",
       "      <td>12</td>\n",
       "    </tr>\n",
       "    <tr>\n",
       "      <th>9</th>\n",
       "      <td>ru</td>\n",
       "      <td>11</td>\n",
       "    </tr>\n",
       "    <tr>\n",
       "      <th>10</th>\n",
       "      <td>ko</td>\n",
       "      <td>11</td>\n",
       "    </tr>\n",
       "    <tr>\n",
       "      <th>11</th>\n",
       "      <td>pt</td>\n",
       "      <td>9</td>\n",
       "    </tr>\n",
       "    <tr>\n",
       "      <th>12</th>\n",
       "      <td>da</td>\n",
       "      <td>7</td>\n",
       "    </tr>\n",
       "    <tr>\n",
       "      <th>13</th>\n",
       "      <td>sv</td>\n",
       "      <td>5</td>\n",
       "    </tr>\n",
       "    <tr>\n",
       "      <th>14</th>\n",
       "      <td>nl</td>\n",
       "      <td>4</td>\n",
       "    </tr>\n",
       "    <tr>\n",
       "      <th>15</th>\n",
       "      <td>fa</td>\n",
       "      <td>4</td>\n",
       "    </tr>\n",
       "    <tr>\n",
       "      <th>16</th>\n",
       "      <td>th</td>\n",
       "      <td>3</td>\n",
       "    </tr>\n",
       "    <tr>\n",
       "      <th>17</th>\n",
       "      <td>he</td>\n",
       "      <td>3</td>\n",
       "    </tr>\n",
       "    <tr>\n",
       "      <th>18</th>\n",
       "      <td>ta</td>\n",
       "      <td>2</td>\n",
       "    </tr>\n",
       "    <tr>\n",
       "      <th>19</th>\n",
       "      <td>cs</td>\n",
       "      <td>2</td>\n",
       "    </tr>\n",
       "    <tr>\n",
       "      <th>20</th>\n",
       "      <td>ro</td>\n",
       "      <td>2</td>\n",
       "    </tr>\n",
       "    <tr>\n",
       "      <th>21</th>\n",
       "      <td>id</td>\n",
       "      <td>2</td>\n",
       "    </tr>\n",
       "    <tr>\n",
       "      <th>22</th>\n",
       "      <td>ar</td>\n",
       "      <td>2</td>\n",
       "    </tr>\n",
       "    <tr>\n",
       "      <th>23</th>\n",
       "      <td>vi</td>\n",
       "      <td>1</td>\n",
       "    </tr>\n",
       "    <tr>\n",
       "      <th>24</th>\n",
       "      <td>sl</td>\n",
       "      <td>1</td>\n",
       "    </tr>\n",
       "    <tr>\n",
       "      <th>25</th>\n",
       "      <td>ps</td>\n",
       "      <td>1</td>\n",
       "    </tr>\n",
       "    <tr>\n",
       "      <th>26</th>\n",
       "      <td>no</td>\n",
       "      <td>1</td>\n",
       "    </tr>\n",
       "    <tr>\n",
       "      <th>27</th>\n",
       "      <td>ky</td>\n",
       "      <td>1</td>\n",
       "    </tr>\n",
       "    <tr>\n",
       "      <th>28</th>\n",
       "      <td>hu</td>\n",
       "      <td>1</td>\n",
       "    </tr>\n",
       "    <tr>\n",
       "      <th>29</th>\n",
       "      <td>pl</td>\n",
       "      <td>1</td>\n",
       "    </tr>\n",
       "    <tr>\n",
       "      <th>30</th>\n",
       "      <td>af</td>\n",
       "      <td>1</td>\n",
       "    </tr>\n",
       "    <tr>\n",
       "      <th>31</th>\n",
       "      <td>nb</td>\n",
       "      <td>1</td>\n",
       "    </tr>\n",
       "    <tr>\n",
       "      <th>32</th>\n",
       "      <td>tr</td>\n",
       "      <td>1</td>\n",
       "    </tr>\n",
       "    <tr>\n",
       "      <th>33</th>\n",
       "      <td>is</td>\n",
       "      <td>1</td>\n",
       "    </tr>\n",
       "    <tr>\n",
       "      <th>34</th>\n",
       "      <td>xx</td>\n",
       "      <td>1</td>\n",
       "    </tr>\n",
       "    <tr>\n",
       "      <th>35</th>\n",
       "      <td>te</td>\n",
       "      <td>1</td>\n",
       "    </tr>\n",
       "    <tr>\n",
       "      <th>36</th>\n",
       "      <td>el</td>\n",
       "      <td>1</td>\n",
       "    </tr>\n",
       "  </tbody>\n",
       "</table>\n",
       "</div>"
      ],
      "text/plain": [
       "   index  original_language\n",
       "0     en               4505\n",
       "1     fr                 70\n",
       "2     es                 32\n",
       "3     zh                 27\n",
       "4     de                 27\n",
       "5     hi                 19\n",
       "6     ja                 16\n",
       "7     it                 14\n",
       "8     cn                 12\n",
       "9     ru                 11\n",
       "10    ko                 11\n",
       "11    pt                  9\n",
       "12    da                  7\n",
       "13    sv                  5\n",
       "14    nl                  4\n",
       "15    fa                  4\n",
       "16    th                  3\n",
       "17    he                  3\n",
       "18    ta                  2\n",
       "19    cs                  2\n",
       "20    ro                  2\n",
       "21    id                  2\n",
       "22    ar                  2\n",
       "23    vi                  1\n",
       "24    sl                  1\n",
       "25    ps                  1\n",
       "26    no                  1\n",
       "27    ky                  1\n",
       "28    hu                  1\n",
       "29    pl                  1\n",
       "30    af                  1\n",
       "31    nb                  1\n",
       "32    tr                  1\n",
       "33    is                  1\n",
       "34    xx                  1\n",
       "35    te                  1\n",
       "36    el                  1"
      ]
     },
     "execution_count": 10,
     "metadata": {},
     "output_type": "execute_result"
    }
   ],
   "source": [
    "tmdb[\"original_language\"].value_counts().to_frame().reset_index()"
   ]
  },
  {
   "cell_type": "code",
   "execution_count": 11,
   "id": "f29c2b02",
   "metadata": {
    "scrolled": true
   },
   "outputs": [
    {
     "data": {
      "text/html": [
       "<div>\n",
       "<style scoped>\n",
       "    .dataframe tbody tr th:only-of-type {\n",
       "        vertical-align: middle;\n",
       "    }\n",
       "\n",
       "    .dataframe tbody tr th {\n",
       "        vertical-align: top;\n",
       "    }\n",
       "\n",
       "    .dataframe thead th {\n",
       "        text-align: right;\n",
       "    }\n",
       "</style>\n",
       "<table border=\"1\" class=\"dataframe\">\n",
       "  <thead>\n",
       "    <tr style=\"text-align: right;\">\n",
       "      <th></th>\n",
       "      <th>original_language</th>\n",
       "      <th>total</th>\n",
       "    </tr>\n",
       "  </thead>\n",
       "  <tbody>\n",
       "    <tr>\n",
       "      <th>0</th>\n",
       "      <td>en</td>\n",
       "      <td>4505</td>\n",
       "    </tr>\n",
       "    <tr>\n",
       "      <th>1</th>\n",
       "      <td>fr</td>\n",
       "      <td>70</td>\n",
       "    </tr>\n",
       "    <tr>\n",
       "      <th>2</th>\n",
       "      <td>es</td>\n",
       "      <td>32</td>\n",
       "    </tr>\n",
       "    <tr>\n",
       "      <th>3</th>\n",
       "      <td>zh</td>\n",
       "      <td>27</td>\n",
       "    </tr>\n",
       "    <tr>\n",
       "      <th>4</th>\n",
       "      <td>de</td>\n",
       "      <td>27</td>\n",
       "    </tr>\n",
       "  </tbody>\n",
       "</table>\n",
       "</div>"
      ],
      "text/plain": [
       "  original_language  total\n",
       "0                en   4505\n",
       "1                fr     70\n",
       "2                es     32\n",
       "3                zh     27\n",
       "4                de     27"
      ]
     },
     "execution_count": 11,
     "metadata": {},
     "output_type": "execute_result"
    }
   ],
   "source": [
    "contagem_de_lingua = tmdb.original_language.value_counts().to_frame().reset_index()\n",
    "contagem_de_lingua.columns = [\"original_language\", \"total\"]\n",
    "contagem_de_lingua.head()"
   ]
  },
  {
   "cell_type": "code",
   "execution_count": 13,
   "id": "7e50b833",
   "metadata": {},
   "outputs": [],
   "source": [
    "import seaborn as sns"
   ]
  },
  {
   "cell_type": "code",
   "execution_count": 14,
   "id": "135fa14a",
   "metadata": {},
   "outputs": [
    {
     "data": {
      "text/plain": [
       "<AxesSubplot:xlabel='original_language', ylabel='total'>"
      ]
     },
     "execution_count": 14,
     "metadata": {},
     "output_type": "execute_result"
    },
    {
     "data": {
      "image/png": "[encoded data removed]",
      "text/plain": [
       "<Figure size 432x288 with 1 Axes>"
      ]
     },
     "metadata": {
      "needs_background": "light"
     },
     "output_type": "display_data"
    }
   ],
   "source": [
    "sns.barplot(x=\"original_language\", y=\"total\", data = contagem_de_lingua)"
   ]
  },
  {
   "cell_type": "code",
   "execution_count": 15,
   "id": "ecfbbd45",
   "metadata": {},
   "outputs": [
    {
     "data": {
      "text/plain": [
       "<seaborn.axisgrid.FacetGrid at 0x27191b4ee50>"
      ]
     },
     "execution_count": 15,
     "metadata": {},
     "output_type": "execute_result"
    },
    {
     "data": {
      "image/png": "[encoded data removed]",
      "text/plain": [
       "<Figure size 360x360 with 1 Axes>"
      ]
     },
     "metadata": {
      "needs_background": "light"
     },
     "output_type": "display_data"
    }
   ],
   "source": [
    "sns.catplot(x=\"original_language\", kind=\"count\", data=tmdb)"
   ]
  },
  {
   "cell_type": "code",
   "execution_count": 17,
   "id": "e654990e",
   "metadata": {},
   "outputs": [],
   "source": [
    "import matplotlib.pyplot as plt"
   ]
  },
  {
   "cell_type": "code",
   "execution_count": 18,
   "id": "601c3b54",
   "metadata": {},
   "outputs": [
    {
     "data": {
      "text/plain": [
       "([<matplotlib.patches.Wedge at 0x27191d35c70>,\n",
       "  <matplotlib.patches.Wedge at 0x27191d43130>,\n",
       "  <matplotlib.patches.Wedge at 0x27191d43610>,\n",
       "  <matplotlib.patches.Wedge at 0x27191d43b20>,\n",
       "  <matplotlib.patches.Wedge at 0x27191d4b040>,\n",
       "  <matplotlib.patches.Wedge at 0x27191d4b520>,\n",
       "  <matplotlib.patches.Wedge at 0x27191d4ba00>,\n",
       "  <matplotlib.patches.Wedge at 0x27191d4bee0>,\n",
       "  <matplotlib.patches.Wedge at 0x27191d57400>,\n",
       "  <matplotlib.patches.Wedge at 0x27191d578e0>,\n",
       "  <matplotlib.patches.Wedge at 0x27191d35c40>,\n",
       "  <matplotlib.patches.Wedge at 0x27191d642b0>,\n",
       "  <matplotlib.patches.Wedge at 0x27191d64790>,\n",
       "  <matplotlib.patches.Wedge at 0x27191d64ca0>,\n",
       "  <matplotlib.patches.Wedge at 0x27191d711c0>,\n",
       "  <matplotlib.patches.Wedge at 0x27191d716a0>,\n",
       "  <matplotlib.patches.Wedge at 0x27191d71b80>,\n",
       "  <matplotlib.patches.Wedge at 0x27191d810a0>,\n",
       "  <matplotlib.patches.Wedge at 0x27191d81580>,\n",
       "  <matplotlib.patches.Wedge at 0x27191d81a60>,\n",
       "  <matplotlib.patches.Wedge at 0x27191d81f70>,\n",
       "  <matplotlib.patches.Wedge at 0x27191d8d490>,\n",
       "  <matplotlib.patches.Wedge at 0x27191d8d970>,\n",
       "  <matplotlib.patches.Wedge at 0x27191d8de50>,\n",
       "  <matplotlib.patches.Wedge at 0x27191d99370>,\n",
       "  <matplotlib.patches.Wedge at 0x27191d99850>,\n",
       "  <matplotlib.patches.Wedge at 0x27191d99d30>,\n",
       "  <matplotlib.patches.Wedge at 0x27191da8250>,\n",
       "  <matplotlib.patches.Wedge at 0x27191da8730>,\n",
       "  <matplotlib.patches.Wedge at 0x27191da8c10>,\n",
       "  <matplotlib.patches.Wedge at 0x27191db5130>,\n",
       "  <matplotlib.patches.Wedge at 0x27191db5610>,\n",
       "  <matplotlib.patches.Wedge at 0x27191db5af0>,\n",
       "  <matplotlib.patches.Wedge at 0x27191db5fd0>,\n",
       "  <matplotlib.patches.Wedge at 0x27191dc24f0>,\n",
       "  <matplotlib.patches.Wedge at 0x27191dc29d0>,\n",
       "  <matplotlib.patches.Wedge at 0x27191dc2eb0>],\n",
       " [Text(-1.0791697536499925, 0.2130554923183512, 'en'),\n",
       "  Text(1.0355355017029462, -0.3710339940124459, 'fr'),\n",
       "  Text(1.0579676486019882, -0.3011718023181785, 'es'),\n",
       "  Text(1.0687996606645356, -0.26012936274741094, 'zh'),\n",
       "  Text(1.0773191105706255, -0.22222406260195313, 'de'),\n",
       "  Text(1.0835167978583342, -0.18971386021801853, 'hi'),\n",
       "  Text(1.0875756432724297, -0.16486121484618815, 'ja'),\n",
       "  Text(1.0906010773146022, -0.14348968659882622, 'it'),\n",
       "  Text(1.092883487371409, -0.12492270822755745, 'cn'),\n",
       "  Text(1.0946390911069936, -0.10846778425161549, 'ru'),\n",
       "  Text(1.0960865535188649, -0.09270527058984593, 'ko'),\n",
       "  Text(1.0972054830031333, -0.07835896928789601, 'pt'),\n",
       "  Text(1.097965443340663, -0.06687215586282344, 'da'),\n",
       "  Text(1.0984565010300316, -0.05825217030171998, 'sv'),\n",
       "  Text(1.0987803851616647, -0.0517847968421653, 'nl'),\n",
       "  Text(1.0990363161210686, -0.04603450713357274, 'fa'),\n",
       "  Text(1.0992355702663055, -0.04100196411527794, 'th'),\n",
       "  Text(1.0993880184234357, -0.03668766750546649, 'he'),\n",
       "  Text(1.0995021239019234, -0.033091985965784415, 'ta'),\n",
       "  Text(1.099584941078101, -0.03021518416739545, 'cs'),\n",
       "  Text(1.0996602312343366, -0.027338175536150495, 'ro'),\n",
       "  Text(1.099727993855245, -0.024460979766119193, 'id'),\n",
       "  Text(1.0997882284769684, -0.02158361655264929, 'ar'),\n",
       "  Text(1.0998284639438185, -0.01942549610642471, 'vi'),\n",
       "  Text(1.0998529348820232, -0.01798670707495573, 'sl'),\n",
       "  Text(1.0998755236058106, -0.01654788726224571, 'ps'),\n",
       "  Text(1.0998962300765243, -0.01510903913059323, 'no'),\n",
       "  Text(1.0999150542587282, -0.013670165142345335, 'ky'),\n",
       "  Text(1.0999319961202083, -0.012231267759896247, 'hu'),\n",
       "  Text(1.0999470556319713, -0.01079234944567632, 'pl'),\n",
       "  Text(1.099960232768245, -0.00935341266215563, 'af'),\n",
       "  Text(1.0999715275064792, -0.007914459871831963, 'nb'),\n",
       "  Text(1.0999809398273452, -0.006475493537234394, 'tr'),\n",
       "  Text(1.0999884697147349, -0.005036516120911278, 'is'),\n",
       "  Text(1.0999941171557621, -0.0035975300854338356, 'xx'),\n",
       "  Text(1.0999978821407626, -0.0021585378933851127, 'te'),\n",
       "  Text(1.0999997646632929, -0.0007195420073586872, 'el')])"
      ]
     },
     "execution_count": 18,
     "metadata": {},
     "output_type": "execute_result"
    },
    {
     "data": {
      "image/png": "[encoded data removed]",
      "text/plain": [
       "<Figure size 432x288 with 1 Axes>"
      ]
     },
     "metadata": {},
     "output_type": "display_data"
    }
   ],
   "source": [
    "plt.pie(contagem_de_lingua[\"total\"], labels = contagem_de_lingua[\"original_language\"])"
   ]
  },
  {
   "cell_type": "code",
   "execution_count": 19,
   "id": "3fc683bb",
   "metadata": {},
   "outputs": [
    {
     "data": {
      "text/plain": [
       "4505"
      ]
     },
     "execution_count": 19,
     "metadata": {},
     "output_type": "execute_result"
    }
   ],
   "source": [
    "total_por_lingua = tmdb[\"original_language\"].value_counts()\n",
    "total_por_lingua.loc[\"en\"]"
   ]
  },
  {
   "cell_type": "code",
   "execution_count": 20,
   "id": "29860555",
   "metadata": {},
   "outputs": [
    {
     "name": "stdout",
     "output_type": "stream",
     "text": [
      "4505 298\n"
     ]
    }
   ],
   "source": [
    "total_por_lingua = tmdb[\"original_language\"].value_counts()\n",
    "total_geral = total_por_lingua.sum()\n",
    "total_de_ingles = total_por_lingua.loc[\"en\"]\n",
    "total_do_resto = total_geral - total_de_ingles\n",
    "print(total_de_ingles, total_do_resto)"
   ]
  },
  {
   "cell_type": "code",
   "execution_count": 21,
   "id": "9c5f552d",
   "metadata": {},
   "outputs": [
    {
     "data": {
      "text/html": [
       "<div>\n",
       "<style scoped>\n",
       "    .dataframe tbody tr th:only-of-type {\n",
       "        vertical-align: middle;\n",
       "    }\n",
       "\n",
       "    .dataframe tbody tr th {\n",
       "        vertical-align: top;\n",
       "    }\n",
       "\n",
       "    .dataframe thead th {\n",
       "        text-align: right;\n",
       "    }\n",
       "</style>\n",
       "<table border=\"1\" class=\"dataframe\">\n",
       "  <thead>\n",
       "    <tr style=\"text-align: right;\">\n",
       "      <th></th>\n",
       "      <th>lingua</th>\n",
       "      <th>total</th>\n",
       "    </tr>\n",
       "  </thead>\n",
       "  <tbody>\n",
       "    <tr>\n",
       "      <th>0</th>\n",
       "      <td>ingles</td>\n",
       "      <td>4505</td>\n",
       "    </tr>\n",
       "    <tr>\n",
       "      <th>1</th>\n",
       "      <td>outros</td>\n",
       "      <td>298</td>\n",
       "    </tr>\n",
       "  </tbody>\n",
       "</table>\n",
       "</div>"
      ],
      "text/plain": [
       "   lingua  total\n",
       "0  ingles   4505\n",
       "1  outros    298"
      ]
     },
     "execution_count": 21,
     "metadata": {},
     "output_type": "execute_result"
    }
   ],
   "source": [
    "dados = {\n",
    "    'lingua' : ['ingles','outros'],\n",
    "    'total' : [total_de_ingles, total_do_resto]\n",
    "\n",
    "}\n",
    "\n",
    "pd.DataFrame(dados)"
   ]
  },
  {
   "cell_type": "code",
   "execution_count": 22,
   "id": "5afc29ac",
   "metadata": {},
   "outputs": [
    {
     "data": {
      "text/plain": [
       "<AxesSubplot:>"
      ]
     },
     "execution_count": 22,
     "metadata": {},
     "output_type": "execute_result"
    },
    {
     "data": {
      "image/png": "[encoded data removed]",
      "text/plain": [
       "<Figure size 432x288 with 1 Axes>"
      ]
     },
     "metadata": {
      "needs_background": "light"
     },
     "output_type": "display_data"
    }
   ],
   "source": [
    "sns.barplot(data = dados, x = 'lingua', y = 'total')"
   ]
  },
  {
   "cell_type": "code",
   "execution_count": 23,
   "id": "24ef2820",
   "metadata": {},
   "outputs": [
    {
     "data": {
      "text/plain": [
       "([<matplotlib.patches.Wedge at 0x27191e4ed60>,\n",
       "  <matplotlib.patches.Wedge at 0x27191e5d280>],\n",
       " [Text(-1.0791697536499925, 0.2130554923183512, 'ingles'),\n",
       "  Text(1.0791697511565306, -0.2130555049482467, 'outros')])"
      ]
     },
     "execution_count": 23,
     "metadata": {},
     "output_type": "execute_result"
    },
    {
     "data": {
      "image/png": "[encoded data removed]",
      "text/plain": [
       "<Figure size 432x288 with 1 Axes>"
      ]
     },
     "metadata": {},
     "output_type": "display_data"
    }
   ],
   "source": [
    "plt.pie(dados[\"total\"], labels = dados[\"lingua\"])"
   ]
  },
  {
   "cell_type": "code",
   "execution_count": 49,
   "id": "aa5e20b9",
   "metadata": {},
   "outputs": [
    {
     "data": {
      "text/html": [
       "<div>\n",
       "<style scoped>\n",
       "    .dataframe tbody tr th:only-of-type {\n",
       "        vertical-align: middle;\n",
       "    }\n",
       "\n",
       "    .dataframe tbody tr th {\n",
       "        vertical-align: top;\n",
       "    }\n",
       "\n",
       "    .dataframe thead th {\n",
       "        text-align: right;\n",
       "    }\n",
       "</style>\n",
       "<table border=\"1\" class=\"dataframe\">\n",
       "  <thead>\n",
       "    <tr style=\"text-align: right;\">\n",
       "      <th></th>\n",
       "      <th>budget</th>\n",
       "      <th>genres</th>\n",
       "      <th>homepage</th>\n",
       "      <th>id</th>\n",
       "      <th>keywords</th>\n",
       "      <th>original_language</th>\n",
       "      <th>original_title</th>\n",
       "      <th>overview</th>\n",
       "      <th>popularity</th>\n",
       "      <th>production_companies</th>\n",
       "      <th>production_countries</th>\n",
       "      <th>release_date</th>\n",
       "      <th>revenue</th>\n",
       "      <th>runtime</th>\n",
       "      <th>spoken_languages</th>\n",
       "      <th>status</th>\n",
       "      <th>tagline</th>\n",
       "      <th>title</th>\n",
       "      <th>vote_average</th>\n",
       "      <th>vote_count</th>\n",
       "    </tr>\n",
       "  </thead>\n",
       "  <tbody>\n",
       "    <tr>\n",
       "      <th>0</th>\n",
       "      <td>237000000</td>\n",
       "      <td>[{\"id\": 28, \"name\": \"Action\"}, {\"id\": 12, \"nam...</td>\n",
       "      <td>http://www.avatarmovie.com/</td>\n",
       "      <td>19995</td>\n",
       "      <td>[{\"id\": 1463, \"name\": \"culture clash\"}, {\"id\":...</td>\n",
       "      <td>en</td>\n",
       "      <td>Avatar</td>\n",
       "      <td>In the 22nd century, a paraplegic Marine is di...</td>\n",
       "      <td>150.437577</td>\n",
       "      <td>[{\"name\": \"Ingenious Film Partners\", \"id\": 289...</td>\n",
       "      <td>[{\"iso_3166_1\": \"US\", \"name\": \"United States o...</td>\n",
       "      <td>2009-12-10</td>\n",
       "      <td>2787965087</td>\n",
       "      <td>162.0</td>\n",
       "      <td>[{\"iso_639_1\": \"en\", \"name\": \"English\"}, {\"iso...</td>\n",
       "      <td>Released</td>\n",
       "      <td>Enter the World of Pandora.</td>\n",
       "      <td>Avatar</td>\n",
       "      <td>7.2</td>\n",
       "      <td>11800</td>\n",
       "    </tr>\n",
       "    <tr>\n",
       "      <th>1</th>\n",
       "      <td>300000000</td>\n",
       "      <td>[{\"id\": 12, \"name\": \"Adventure\"}, {\"id\": 14, \"...</td>\n",
       "      <td>http://disney.go.com/disneypictures/pirates/</td>\n",
       "      <td>285</td>\n",
       "      <td>[{\"id\": 270, \"name\": \"ocean\"}, {\"id\": 726, \"na...</td>\n",
       "      <td>en</td>\n",
       "      <td>Pirates of the Caribbean: At World's End</td>\n",
       "      <td>Captain Barbossa, long believed to be dead, ha...</td>\n",
       "      <td>139.082615</td>\n",
       "      <td>[{\"name\": \"Walt Disney Pictures\", \"id\": 2}, {\"...</td>\n",
       "      <td>[{\"iso_3166_1\": \"US\", \"name\": \"United States o...</td>\n",
       "      <td>2007-05-19</td>\n",
       "      <td>961000000</td>\n",
       "      <td>169.0</td>\n",
       "      <td>[{\"iso_639_1\": \"en\", \"name\": \"English\"}]</td>\n",
       "      <td>Released</td>\n",
       "      <td>At the end of the world, the adventure begins.</td>\n",
       "      <td>Pirates of the Caribbean: At World's End</td>\n",
       "      <td>6.9</td>\n",
       "      <td>4500</td>\n",
       "    </tr>\n",
       "    <tr>\n",
       "      <th>2</th>\n",
       "      <td>245000000</td>\n",
       "      <td>[{\"id\": 28, \"name\": \"Action\"}, {\"id\": 12, \"nam...</td>\n",
       "      <td>http://www.sonypictures.com/movies/spectre/</td>\n",
       "      <td>206647</td>\n",
       "      <td>[{\"id\": 470, \"name\": \"spy\"}, {\"id\": 818, \"name...</td>\n",
       "      <td>en</td>\n",
       "      <td>Spectre</td>\n",
       "      <td>A cryptic message from Bond’s past sends him o...</td>\n",
       "      <td>107.376788</td>\n",
       "      <td>[{\"name\": \"Columbia Pictures\", \"id\": 5}, {\"nam...</td>\n",
       "      <td>[{\"iso_3166_1\": \"GB\", \"name\": \"United Kingdom\"...</td>\n",
       "      <td>2015-10-26</td>\n",
       "      <td>880674609</td>\n",
       "      <td>148.0</td>\n",
       "      <td>[{\"iso_639_1\": \"fr\", \"name\": \"Fran\\u00e7ais\"},...</td>\n",
       "      <td>Released</td>\n",
       "      <td>A Plan No One Escapes</td>\n",
       "      <td>Spectre</td>\n",
       "      <td>6.3</td>\n",
       "      <td>4466</td>\n",
       "    </tr>\n",
       "    <tr>\n",
       "      <th>3</th>\n",
       "      <td>250000000</td>\n",
       "      <td>[{\"id\": 28, \"name\": \"Action\"}, {\"id\": 80, \"nam...</td>\n",
       "      <td>http://www.thedarkknightrises.com/</td>\n",
       "      <td>49026</td>\n",
       "      <td>[{\"id\": 849, \"name\": \"dc comics\"}, {\"id\": 853,...</td>\n",
       "      <td>en</td>\n",
       "      <td>The Dark Knight Rises</td>\n",
       "      <td>Following the death of District Attorney Harve...</td>\n",
       "      <td>112.312950</td>\n",
       "      <td>[{\"name\": \"Legendary Pictures\", \"id\": 923}, {\"...</td>\n",
       "      <td>[{\"iso_3166_1\": \"US\", \"name\": \"United States o...</td>\n",
       "      <td>2012-07-16</td>\n",
       "      <td>1084939099</td>\n",
       "      <td>165.0</td>\n",
       "      <td>[{\"iso_639_1\": \"en\", \"name\": \"English\"}]</td>\n",
       "      <td>Released</td>\n",
       "      <td>The Legend Ends</td>\n",
       "      <td>The Dark Knight Rises</td>\n",
       "      <td>7.6</td>\n",
       "      <td>9106</td>\n",
       "    </tr>\n",
       "    <tr>\n",
       "      <th>4</th>\n",
       "      <td>260000000</td>\n",
       "      <td>[{\"id\": 28, \"name\": \"Action\"}, {\"id\": 12, \"nam...</td>\n",
       "      <td>http://movies.disney.com/john-carter</td>\n",
       "      <td>49529</td>\n",
       "      <td>[{\"id\": 818, \"name\": \"based on novel\"}, {\"id\":...</td>\n",
       "      <td>en</td>\n",
       "      <td>John Carter</td>\n",
       "      <td>John Carter is a war-weary, former military ca...</td>\n",
       "      <td>43.926995</td>\n",
       "      <td>[{\"name\": \"Walt Disney Pictures\", \"id\": 2}]</td>\n",
       "      <td>[{\"iso_3166_1\": \"US\", \"name\": \"United States o...</td>\n",
       "      <td>2012-03-07</td>\n",
       "      <td>284139100</td>\n",
       "      <td>132.0</td>\n",
       "      <td>[{\"iso_639_1\": \"en\", \"name\": \"English\"}]</td>\n",
       "      <td>Released</td>\n",
       "      <td>Lost in our world, found in another.</td>\n",
       "      <td>John Carter</td>\n",
       "      <td>6.1</td>\n",
       "      <td>2124</td>\n",
       "    </tr>\n",
       "    <tr>\n",
       "      <th>...</th>\n",
       "      <td>...</td>\n",
       "      <td>...</td>\n",
       "      <td>...</td>\n",
       "      <td>...</td>\n",
       "      <td>...</td>\n",
       "      <td>...</td>\n",
       "      <td>...</td>\n",
       "      <td>...</td>\n",
       "      <td>...</td>\n",
       "      <td>...</td>\n",
       "      <td>...</td>\n",
       "      <td>...</td>\n",
       "      <td>...</td>\n",
       "      <td>...</td>\n",
       "      <td>...</td>\n",
       "      <td>...</td>\n",
       "      <td>...</td>\n",
       "      <td>...</td>\n",
       "      <td>...</td>\n",
       "      <td>...</td>\n",
       "    </tr>\n",
       "    <tr>\n",
       "      <th>4797</th>\n",
       "      <td>0</td>\n",
       "      <td>[{\"id\": 10769, \"name\": \"Foreign\"}, {\"id\": 53, ...</td>\n",
       "      <td>NaN</td>\n",
       "      <td>67238</td>\n",
       "      <td>[]</td>\n",
       "      <td>en</td>\n",
       "      <td>Cavite</td>\n",
       "      <td>Adam, a security guard, travels from Californi...</td>\n",
       "      <td>0.022173</td>\n",
       "      <td>[]</td>\n",
       "      <td>[]</td>\n",
       "      <td>2005-03-12</td>\n",
       "      <td>0</td>\n",
       "      <td>80.0</td>\n",
       "      <td>[]</td>\n",
       "      <td>Released</td>\n",
       "      <td>NaN</td>\n",
       "      <td>Cavite</td>\n",
       "      <td>7.5</td>\n",
       "      <td>2</td>\n",
       "    </tr>\n",
       "    <tr>\n",
       "      <th>4799</th>\n",
       "      <td>9000</td>\n",
       "      <td>[{\"id\": 35, \"name\": \"Comedy\"}, {\"id\": 10749, \"...</td>\n",
       "      <td>NaN</td>\n",
       "      <td>72766</td>\n",
       "      <td>[]</td>\n",
       "      <td>en</td>\n",
       "      <td>Newlyweds</td>\n",
       "      <td>A newlywed couple's honeymoon is upended by th...</td>\n",
       "      <td>0.642552</td>\n",
       "      <td>[]</td>\n",
       "      <td>[]</td>\n",
       "      <td>2011-12-26</td>\n",
       "      <td>0</td>\n",
       "      <td>85.0</td>\n",
       "      <td>[]</td>\n",
       "      <td>Released</td>\n",
       "      <td>A newlywed couple's honeymoon is upended by th...</td>\n",
       "      <td>Newlyweds</td>\n",
       "      <td>5.9</td>\n",
       "      <td>5</td>\n",
       "    </tr>\n",
       "    <tr>\n",
       "      <th>4800</th>\n",
       "      <td>0</td>\n",
       "      <td>[{\"id\": 35, \"name\": \"Comedy\"}, {\"id\": 18, \"nam...</td>\n",
       "      <td>http://www.hallmarkchannel.com/signedsealeddel...</td>\n",
       "      <td>231617</td>\n",
       "      <td>[{\"id\": 248, \"name\": \"date\"}, {\"id\": 699, \"nam...</td>\n",
       "      <td>en</td>\n",
       "      <td>Signed, Sealed, Delivered</td>\n",
       "      <td>\"Signed, Sealed, Delivered\" introduces a dedic...</td>\n",
       "      <td>1.444476</td>\n",
       "      <td>[{\"name\": \"Front Street Pictures\", \"id\": 3958}...</td>\n",
       "      <td>[{\"iso_3166_1\": \"US\", \"name\": \"United States o...</td>\n",
       "      <td>2013-10-13</td>\n",
       "      <td>0</td>\n",
       "      <td>120.0</td>\n",
       "      <td>[{\"iso_639_1\": \"en\", \"name\": \"English\"}]</td>\n",
       "      <td>Released</td>\n",
       "      <td>NaN</td>\n",
       "      <td>Signed, Sealed, Delivered</td>\n",
       "      <td>7.0</td>\n",
       "      <td>6</td>\n",
       "    </tr>\n",
       "    <tr>\n",
       "      <th>4801</th>\n",
       "      <td>0</td>\n",
       "      <td>[]</td>\n",
       "      <td>http://shanghaicalling.com/</td>\n",
       "      <td>126186</td>\n",
       "      <td>[]</td>\n",
       "      <td>en</td>\n",
       "      <td>Shanghai Calling</td>\n",
       "      <td>When ambitious New York attorney Sam is sent t...</td>\n",
       "      <td>0.857008</td>\n",
       "      <td>[]</td>\n",
       "      <td>[{\"iso_3166_1\": \"US\", \"name\": \"United States o...</td>\n",
       "      <td>2012-05-03</td>\n",
       "      <td>0</td>\n",
       "      <td>98.0</td>\n",
       "      <td>[{\"iso_639_1\": \"en\", \"name\": \"English\"}]</td>\n",
       "      <td>Released</td>\n",
       "      <td>A New Yorker in Shanghai</td>\n",
       "      <td>Shanghai Calling</td>\n",
       "      <td>5.7</td>\n",
       "      <td>7</td>\n",
       "    </tr>\n",
       "    <tr>\n",
       "      <th>4802</th>\n",
       "      <td>0</td>\n",
       "      <td>[{\"id\": 99, \"name\": \"Documentary\"}]</td>\n",
       "      <td>NaN</td>\n",
       "      <td>25975</td>\n",
       "      <td>[{\"id\": 1523, \"name\": \"obsession\"}, {\"id\": 224...</td>\n",
       "      <td>en</td>\n",
       "      <td>My Date with Drew</td>\n",
       "      <td>Ever since the second grade when he first saw ...</td>\n",
       "      <td>1.929883</td>\n",
       "      <td>[{\"name\": \"rusty bear entertainment\", \"id\": 87...</td>\n",
       "      <td>[{\"iso_3166_1\": \"US\", \"name\": \"United States o...</td>\n",
       "      <td>2005-08-05</td>\n",
       "      <td>0</td>\n",
       "      <td>90.0</td>\n",
       "      <td>[{\"iso_639_1\": \"en\", \"name\": \"English\"}]</td>\n",
       "      <td>Released</td>\n",
       "      <td>NaN</td>\n",
       "      <td>My Date with Drew</td>\n",
       "      <td>6.3</td>\n",
       "      <td>16</td>\n",
       "    </tr>\n",
       "  </tbody>\n",
       "</table>\n",
       "<p>4505 rows × 20 columns</p>\n",
       "</div>"
      ],
      "text/plain": [
       "         budget                                             genres  \\\n",
       "0     237000000  [{\"id\": 28, \"name\": \"Action\"}, {\"id\": 12, \"nam...   \n",
       "1     300000000  [{\"id\": 12, \"name\": \"Adventure\"}, {\"id\": 14, \"...   \n",
       "2     245000000  [{\"id\": 28, \"name\": \"Action\"}, {\"id\": 12, \"nam...   \n",
       "3     250000000  [{\"id\": 28, \"name\": \"Action\"}, {\"id\": 80, \"nam...   \n",
       "4     260000000  [{\"id\": 28, \"name\": \"Action\"}, {\"id\": 12, \"nam...   \n",
       "...         ...                                                ...   \n",
       "4797          0  [{\"id\": 10769, \"name\": \"Foreign\"}, {\"id\": 53, ...   \n",
       "4799       9000  [{\"id\": 35, \"name\": \"Comedy\"}, {\"id\": 10749, \"...   \n",
       "4800          0  [{\"id\": 35, \"name\": \"Comedy\"}, {\"id\": 18, \"nam...   \n",
       "4801          0                                                 []   \n",
       "4802          0                [{\"id\": 99, \"name\": \"Documentary\"}]   \n",
       "\n",
       "                                               homepage      id  \\\n",
       "0                           http://www.avatarmovie.com/   19995   \n",
       "1          http://disney.go.com/disneypictures/pirates/     285   \n",
       "2           http://www.sonypictures.com/movies/spectre/  206647   \n",
       "3                    http://www.thedarkknightrises.com/   49026   \n",
       "4                  http://movies.disney.com/john-carter   49529   \n",
       "...                                                 ...     ...   \n",
       "4797                                                NaN   67238   \n",
       "4799                                                NaN   72766   \n",
       "4800  http://www.hallmarkchannel.com/signedsealeddel...  231617   \n",
       "4801                        http://shanghaicalling.com/  126186   \n",
       "4802                                                NaN   25975   \n",
       "\n",
       "                                               keywords original_language  \\\n",
       "0     [{\"id\": 1463, \"name\": \"culture clash\"}, {\"id\":...                en   \n",
       "1     [{\"id\": 270, \"name\": \"ocean\"}, {\"id\": 726, \"na...                en   \n",
       "2     [{\"id\": 470, \"name\": \"spy\"}, {\"id\": 818, \"name...                en   \n",
       "3     [{\"id\": 849, \"name\": \"dc comics\"}, {\"id\": 853,...                en   \n",
       "4     [{\"id\": 818, \"name\": \"based on novel\"}, {\"id\":...                en   \n",
       "...                                                 ...               ...   \n",
       "4797                                                 []                en   \n",
       "4799                                                 []                en   \n",
       "4800  [{\"id\": 248, \"name\": \"date\"}, {\"id\": 699, \"nam...                en   \n",
       "4801                                                 []                en   \n",
       "4802  [{\"id\": 1523, \"name\": \"obsession\"}, {\"id\": 224...                en   \n",
       "\n",
       "                                original_title  \\\n",
       "0                                       Avatar   \n",
       "1     Pirates of the Caribbean: At World's End   \n",
       "2                                      Spectre   \n",
       "3                        The Dark Knight Rises   \n",
       "4                                  John Carter   \n",
       "...                                        ...   \n",
       "4797                                    Cavite   \n",
       "4799                                 Newlyweds   \n",
       "4800                 Signed, Sealed, Delivered   \n",
       "4801                          Shanghai Calling   \n",
       "4802                         My Date with Drew   \n",
       "\n",
       "                                               overview  popularity  \\\n",
       "0     In the 22nd century, a paraplegic Marine is di...  150.437577   \n",
       "1     Captain Barbossa, long believed to be dead, ha...  139.082615   \n",
       "2     A cryptic message from Bond’s past sends him o...  107.376788   \n",
       "3     Following the death of District Attorney Harve...  112.312950   \n",
       "4     John Carter is a war-weary, former military ca...   43.926995   \n",
       "...                                                 ...         ...   \n",
       "4797  Adam, a security guard, travels from Californi...    0.022173   \n",
       "4799  A newlywed couple's honeymoon is upended by th...    0.642552   \n",
       "4800  \"Signed, Sealed, Delivered\" introduces a dedic...    1.444476   \n",
       "4801  When ambitious New York attorney Sam is sent t...    0.857008   \n",
       "4802  Ever since the second grade when he first saw ...    1.929883   \n",
       "\n",
       "                                   production_companies  \\\n",
       "0     [{\"name\": \"Ingenious Film Partners\", \"id\": 289...   \n",
       "1     [{\"name\": \"Walt Disney Pictures\", \"id\": 2}, {\"...   \n",
       "2     [{\"name\": \"Columbia Pictures\", \"id\": 5}, {\"nam...   \n",
       "3     [{\"name\": \"Legendary Pictures\", \"id\": 923}, {\"...   \n",
       "4           [{\"name\": \"Walt Disney Pictures\", \"id\": 2}]   \n",
       "...                                                 ...   \n",
       "4797                                                 []   \n",
       "4799                                                 []   \n",
       "4800  [{\"name\": \"Front Street Pictures\", \"id\": 3958}...   \n",
       "4801                                                 []   \n",
       "4802  [{\"name\": \"rusty bear entertainment\", \"id\": 87...   \n",
       "\n",
       "                                   production_countries release_date  \\\n",
       "0     [{\"iso_3166_1\": \"US\", \"name\": \"United States o...   2009-12-10   \n",
       "1     [{\"iso_3166_1\": \"US\", \"name\": \"United States o...   2007-05-19   \n",
       "2     [{\"iso_3166_1\": \"GB\", \"name\": \"United Kingdom\"...   2015-10-26   \n",
       "3     [{\"iso_3166_1\": \"US\", \"name\": \"United States o...   2012-07-16   \n",
       "4     [{\"iso_3166_1\": \"US\", \"name\": \"United States o...   2012-03-07   \n",
       "...                                                 ...          ...   \n",
       "4797                                                 []   2005-03-12   \n",
       "4799                                                 []   2011-12-26   \n",
       "4800  [{\"iso_3166_1\": \"US\", \"name\": \"United States o...   2013-10-13   \n",
       "4801  [{\"iso_3166_1\": \"US\", \"name\": \"United States o...   2012-05-03   \n",
       "4802  [{\"iso_3166_1\": \"US\", \"name\": \"United States o...   2005-08-05   \n",
       "\n",
       "         revenue  runtime                                   spoken_languages  \\\n",
       "0     2787965087    162.0  [{\"iso_639_1\": \"en\", \"name\": \"English\"}, {\"iso...   \n",
       "1      961000000    169.0           [{\"iso_639_1\": \"en\", \"name\": \"English\"}]   \n",
       "2      880674609    148.0  [{\"iso_639_1\": \"fr\", \"name\": \"Fran\\u00e7ais\"},...   \n",
       "3     1084939099    165.0           [{\"iso_639_1\": \"en\", \"name\": \"English\"}]   \n",
       "4      284139100    132.0           [{\"iso_639_1\": \"en\", \"name\": \"English\"}]   \n",
       "...          ...      ...                                                ...   \n",
       "4797           0     80.0                                                 []   \n",
       "4799           0     85.0                                                 []   \n",
       "4800           0    120.0           [{\"iso_639_1\": \"en\", \"name\": \"English\"}]   \n",
       "4801           0     98.0           [{\"iso_639_1\": \"en\", \"name\": \"English\"}]   \n",
       "4802           0     90.0           [{\"iso_639_1\": \"en\", \"name\": \"English\"}]   \n",
       "\n",
       "        status                                            tagline  \\\n",
       "0     Released                        Enter the World of Pandora.   \n",
       "1     Released     At the end of the world, the adventure begins.   \n",
       "2     Released                              A Plan No One Escapes   \n",
       "3     Released                                    The Legend Ends   \n",
       "4     Released               Lost in our world, found in another.   \n",
       "...        ...                                                ...   \n",
       "4797  Released                                                NaN   \n",
       "4799  Released  A newlywed couple's honeymoon is upended by th...   \n",
       "4800  Released                                                NaN   \n",
       "4801  Released                           A New Yorker in Shanghai   \n",
       "4802  Released                                                NaN   \n",
       "\n",
       "                                         title  vote_average  vote_count  \n",
       "0                                       Avatar           7.2       11800  \n",
       "1     Pirates of the Caribbean: At World's End           6.9        4500  \n",
       "2                                      Spectre           6.3        4466  \n",
       "3                        The Dark Knight Rises           7.6        9106  \n",
       "4                                  John Carter           6.1        2124  \n",
       "...                                        ...           ...         ...  \n",
       "4797                                    Cavite           7.5           2  \n",
       "4799                                 Newlyweds           5.9           5  \n",
       "4800                 Signed, Sealed, Delivered           7.0           6  \n",
       "4801                          Shanghai Calling           5.7           7  \n",
       "4802                         My Date with Drew           6.3          16  \n",
       "\n",
       "[4505 rows x 20 columns]"
      ]
     },
     "execution_count": 49,
     "metadata": {},
     "output_type": "execute_result"
    }
   ],
   "source": [
    "tmdb.query(\"original_language == 'en'\")"
   ]
  },
  {
   "cell_type": "code",
   "execution_count": 50,
   "id": "a2dc2c57",
   "metadata": {},
   "outputs": [
    {
     "data": {
      "text/html": [
       "<div>\n",
       "<style scoped>\n",
       "    .dataframe tbody tr th:only-of-type {\n",
       "        vertical-align: middle;\n",
       "    }\n",
       "\n",
       "    .dataframe tbody tr th {\n",
       "        vertical-align: top;\n",
       "    }\n",
       "\n",
       "    .dataframe thead th {\n",
       "        text-align: right;\n",
       "    }\n",
       "</style>\n",
       "<table border=\"1\" class=\"dataframe\">\n",
       "  <thead>\n",
       "    <tr style=\"text-align: right;\">\n",
       "      <th></th>\n",
       "      <th>budget</th>\n",
       "      <th>genres</th>\n",
       "      <th>homepage</th>\n",
       "      <th>id</th>\n",
       "      <th>keywords</th>\n",
       "      <th>original_language</th>\n",
       "      <th>original_title</th>\n",
       "      <th>overview</th>\n",
       "      <th>popularity</th>\n",
       "      <th>production_companies</th>\n",
       "      <th>production_countries</th>\n",
       "      <th>release_date</th>\n",
       "      <th>revenue</th>\n",
       "      <th>runtime</th>\n",
       "      <th>spoken_languages</th>\n",
       "      <th>status</th>\n",
       "      <th>tagline</th>\n",
       "      <th>title</th>\n",
       "      <th>vote_average</th>\n",
       "      <th>vote_count</th>\n",
       "    </tr>\n",
       "  </thead>\n",
       "  <tbody>\n",
       "    <tr>\n",
       "      <th>97</th>\n",
       "      <td>15000000</td>\n",
       "      <td>[{\"id\": 28, \"name\": \"Action\"}, {\"id\": 12, \"nam...</td>\n",
       "      <td>NaN</td>\n",
       "      <td>315011</td>\n",
       "      <td>[{\"id\": 1299, \"name\": \"monster\"}, {\"id\": 7671,...</td>\n",
       "      <td>ja</td>\n",
       "      <td>シン・ゴジラ</td>\n",
       "      <td>From the mind behind Evangelion comes a hit la...</td>\n",
       "      <td>9.476999</td>\n",
       "      <td>[{\"name\": \"Cine Bazar\", \"id\": 5896}, {\"name\": ...</td>\n",
       "      <td>[{\"iso_3166_1\": \"JP\", \"name\": \"Japan\"}]</td>\n",
       "      <td>2016-07-29</td>\n",
       "      <td>77000000</td>\n",
       "      <td>120.0</td>\n",
       "      <td>[{\"iso_639_1\": \"it\", \"name\": \"Italiano\"}, {\"is...</td>\n",
       "      <td>Released</td>\n",
       "      <td>A god incarnate. A city doomed.</td>\n",
       "      <td>Shin Godzilla</td>\n",
       "      <td>6.5</td>\n",
       "      <td>143</td>\n",
       "    </tr>\n",
       "    <tr>\n",
       "      <th>235</th>\n",
       "      <td>97250400</td>\n",
       "      <td>[{\"id\": 14, \"name\": \"Fantasy\"}, {\"id\": 12, \"na...</td>\n",
       "      <td>http://www.asterixauxjeuxolympiques.com/index.php</td>\n",
       "      <td>2395</td>\n",
       "      <td>[{\"id\": 271, \"name\": \"competition\"}, {\"id\": 12...</td>\n",
       "      <td>fr</td>\n",
       "      <td>Astérix aux Jeux Olympiques</td>\n",
       "      <td>Astérix and Obélix have to win the Olympic Gam...</td>\n",
       "      <td>20.344364</td>\n",
       "      <td>[{\"name\": \"Constantin Film\", \"id\": 47}, {\"name...</td>\n",
       "      <td>[{\"iso_3166_1\": \"BE\", \"name\": \"Belgium\"}, {\"is...</td>\n",
       "      <td>2008-01-13</td>\n",
       "      <td>132900000</td>\n",
       "      <td>116.0</td>\n",
       "      <td>[{\"iso_639_1\": \"fr\", \"name\": \"Fran\\u00e7ais\"},...</td>\n",
       "      <td>Released</td>\n",
       "      <td>NaN</td>\n",
       "      <td>Asterix at the Olympic Games</td>\n",
       "      <td>5.0</td>\n",
       "      <td>471</td>\n",
       "    </tr>\n",
       "    <tr>\n",
       "      <th>317</th>\n",
       "      <td>94000000</td>\n",
       "      <td>[{\"id\": 18, \"name\": \"Drama\"}, {\"id\": 36, \"name...</td>\n",
       "      <td>http://www.theflowersofwarmovie.com/</td>\n",
       "      <td>76758</td>\n",
       "      <td>[{\"id\": 173251, \"name\": \"forced prostitution\"}...</td>\n",
       "      <td>zh</td>\n",
       "      <td>金陵十三釵</td>\n",
       "      <td>A Westerner finds refuge with a group of women...</td>\n",
       "      <td>12.516546</td>\n",
       "      <td>[{\"name\": \"Beijing New Picture Film Co. Ltd.\",...</td>\n",
       "      <td>[{\"iso_3166_1\": \"CN\", \"name\": \"China\"}, {\"iso_...</td>\n",
       "      <td>2011-12-15</td>\n",
       "      <td>95311434</td>\n",
       "      <td>145.0</td>\n",
       "      <td>[{\"iso_639_1\": \"zh\", \"name\": \"\\u666e\\u901a\\u8b...</td>\n",
       "      <td>Released</td>\n",
       "      <td>NaN</td>\n",
       "      <td>The Flowers of War</td>\n",
       "      <td>7.1</td>\n",
       "      <td>187</td>\n",
       "    </tr>\n",
       "    <tr>\n",
       "      <th>474</th>\n",
       "      <td>0</td>\n",
       "      <td>[{\"id\": 9648, \"name\": \"Mystery\"}, {\"id\": 18, \"...</td>\n",
       "      <td>NaN</td>\n",
       "      <td>330770</td>\n",
       "      <td>[{\"id\": 428, \"name\": \"nurse\"}, {\"id\": 658, \"na...</td>\n",
       "      <td>fr</td>\n",
       "      <td>Évolution</td>\n",
       "      <td>11-year-old Nicolas lives with his mother in a...</td>\n",
       "      <td>3.300061</td>\n",
       "      <td>[{\"name\": \"Ex Nihilo\", \"id\": 3307}, {\"name\": \"...</td>\n",
       "      <td>[{\"iso_3166_1\": \"BE\", \"name\": \"Belgium\"}, {\"is...</td>\n",
       "      <td>2015-09-14</td>\n",
       "      <td>0</td>\n",
       "      <td>81.0</td>\n",
       "      <td>[{\"iso_639_1\": \"fr\", \"name\": \"Fran\\u00e7ais\"}]</td>\n",
       "      <td>Released</td>\n",
       "      <td>NaN</td>\n",
       "      <td>Evolution</td>\n",
       "      <td>6.4</td>\n",
       "      <td>47</td>\n",
       "    </tr>\n",
       "    <tr>\n",
       "      <th>492</th>\n",
       "      <td>8000000</td>\n",
       "      <td>[{\"id\": 35, \"name\": \"Comedy\"}, {\"id\": 16, \"nam...</td>\n",
       "      <td>NaN</td>\n",
       "      <td>293644</td>\n",
       "      <td>[{\"id\": 209714, \"name\": \"3d\"}]</td>\n",
       "      <td>es</td>\n",
       "      <td>Don Gato: El inicio de la pandilla</td>\n",
       "      <td>Top Cat has arrived to charm his way into your...</td>\n",
       "      <td>0.719996</td>\n",
       "      <td>[{\"name\": \"Anima Estudios\", \"id\": 9965}, {\"nam...</td>\n",
       "      <td>[{\"iso_3166_1\": \"IN\", \"name\": \"India\"}, {\"iso_...</td>\n",
       "      <td>2015-10-30</td>\n",
       "      <td>0</td>\n",
       "      <td>89.0</td>\n",
       "      <td>[]</td>\n",
       "      <td>Released</td>\n",
       "      <td>NaN</td>\n",
       "      <td>Top Cat Begins</td>\n",
       "      <td>5.3</td>\n",
       "      <td>9</td>\n",
       "    </tr>\n",
       "    <tr>\n",
       "      <th>...</th>\n",
       "      <td>...</td>\n",
       "      <td>...</td>\n",
       "      <td>...</td>\n",
       "      <td>...</td>\n",
       "      <td>...</td>\n",
       "      <td>...</td>\n",
       "      <td>...</td>\n",
       "      <td>...</td>\n",
       "      <td>...</td>\n",
       "      <td>...</td>\n",
       "      <td>...</td>\n",
       "      <td>...</td>\n",
       "      <td>...</td>\n",
       "      <td>...</td>\n",
       "      <td>...</td>\n",
       "      <td>...</td>\n",
       "      <td>...</td>\n",
       "      <td>...</td>\n",
       "      <td>...</td>\n",
       "      <td>...</td>\n",
       "    </tr>\n",
       "    <tr>\n",
       "      <th>4739</th>\n",
       "      <td>0</td>\n",
       "      <td>[{\"id\": 35, \"name\": \"Comedy\"}, {\"id\": 10749, \"...</td>\n",
       "      <td>NaN</td>\n",
       "      <td>90414</td>\n",
       "      <td>[{\"id\": 187056, \"name\": \"woman director\"}]</td>\n",
       "      <td>fr</td>\n",
       "      <td>I Love You, Don't Touch Me!</td>\n",
       "      <td>The story of a 25 year old virgin girl, lookin...</td>\n",
       "      <td>0.020839</td>\n",
       "      <td>[]</td>\n",
       "      <td>[{\"iso_3166_1\": \"US\", \"name\": \"United States o...</td>\n",
       "      <td>1997-01-21</td>\n",
       "      <td>0</td>\n",
       "      <td>86.0</td>\n",
       "      <td>[{\"iso_639_1\": \"en\", \"name\": \"English\"}]</td>\n",
       "      <td>Released</td>\n",
       "      <td>Just Your Typical Boy-Loves-Girl Who Doesn't L...</td>\n",
       "      <td>I Love You, Don't Touch Me!</td>\n",
       "      <td>6.0</td>\n",
       "      <td>1</td>\n",
       "    </tr>\n",
       "    <tr>\n",
       "      <th>4751</th>\n",
       "      <td>0</td>\n",
       "      <td>[{\"id\": 18, \"name\": \"Drama\"}, {\"id\": 10749, \"n...</td>\n",
       "      <td>NaN</td>\n",
       "      <td>42109</td>\n",
       "      <td>[]</td>\n",
       "      <td>pt</td>\n",
       "      <td>Gabriela, Cravo e Canela</td>\n",
       "      <td>In 1925, Gabriela becomes cook, mistress, and ...</td>\n",
       "      <td>0.557602</td>\n",
       "      <td>[{\"name\": \"United Artists\", \"id\": 60}, {\"name\"...</td>\n",
       "      <td>[{\"iso_3166_1\": \"BR\", \"name\": \"Brazil\"}]</td>\n",
       "      <td>1983-03-24</td>\n",
       "      <td>0</td>\n",
       "      <td>99.0</td>\n",
       "      <td>[{\"iso_639_1\": \"pt\", \"name\": \"Portugu\\u00eas\"}]</td>\n",
       "      <td>Released</td>\n",
       "      <td>NaN</td>\n",
       "      <td>Gabriela</td>\n",
       "      <td>6.0</td>\n",
       "      <td>2</td>\n",
       "    </tr>\n",
       "    <tr>\n",
       "      <th>4790</th>\n",
       "      <td>0</td>\n",
       "      <td>[{\"id\": 18, \"name\": \"Drama\"}, {\"id\": 10769, \"n...</td>\n",
       "      <td>NaN</td>\n",
       "      <td>13898</td>\n",
       "      <td>[]</td>\n",
       "      <td>fa</td>\n",
       "      <td>دایره</td>\n",
       "      <td>Various women struggle to function in the oppr...</td>\n",
       "      <td>1.193779</td>\n",
       "      <td>[{\"name\": \"Jafar Panahi Film Productions\", \"id...</td>\n",
       "      <td>[{\"iso_3166_1\": \"IR\", \"name\": \"Iran\"}]</td>\n",
       "      <td>2000-09-08</td>\n",
       "      <td>0</td>\n",
       "      <td>90.0</td>\n",
       "      <td>[{\"iso_639_1\": \"fa\", \"name\": \"\\u0641\\u0627\\u06...</td>\n",
       "      <td>Released</td>\n",
       "      <td>NaN</td>\n",
       "      <td>The Circle</td>\n",
       "      <td>6.6</td>\n",
       "      <td>17</td>\n",
       "    </tr>\n",
       "    <tr>\n",
       "      <th>4792</th>\n",
       "      <td>20000</td>\n",
       "      <td>[{\"id\": 80, \"name\": \"Crime\"}, {\"id\": 27, \"name...</td>\n",
       "      <td>NaN</td>\n",
       "      <td>36095</td>\n",
       "      <td>[{\"id\": 233, \"name\": \"japan\"}, {\"id\": 549, \"na...</td>\n",
       "      <td>ja</td>\n",
       "      <td>キュア</td>\n",
       "      <td>A wave of gruesome murders is sweeping Tokyo. ...</td>\n",
       "      <td>0.212443</td>\n",
       "      <td>[{\"name\": \"Daiei Studios\", \"id\": 881}]</td>\n",
       "      <td>[{\"iso_3166_1\": \"JP\", \"name\": \"Japan\"}]</td>\n",
       "      <td>1997-11-06</td>\n",
       "      <td>99000</td>\n",
       "      <td>111.0</td>\n",
       "      <td>[{\"iso_639_1\": \"ja\", \"name\": \"\\u65e5\\u672c\\u8a...</td>\n",
       "      <td>Released</td>\n",
       "      <td>Madness. Terror. Murder.</td>\n",
       "      <td>Cure</td>\n",
       "      <td>7.4</td>\n",
       "      <td>63</td>\n",
       "    </tr>\n",
       "    <tr>\n",
       "      <th>4798</th>\n",
       "      <td>220000</td>\n",
       "      <td>[{\"id\": 28, \"name\": \"Action\"}, {\"id\": 80, \"nam...</td>\n",
       "      <td>NaN</td>\n",
       "      <td>9367</td>\n",
       "      <td>[{\"id\": 5616, \"name\": \"united states\\u2013mexi...</td>\n",
       "      <td>es</td>\n",
       "      <td>El Mariachi</td>\n",
       "      <td>El Mariachi just wants to play his guitar and ...</td>\n",
       "      <td>14.269792</td>\n",
       "      <td>[{\"name\": \"Columbia Pictures\", \"id\": 5}]</td>\n",
       "      <td>[{\"iso_3166_1\": \"MX\", \"name\": \"Mexico\"}, {\"iso...</td>\n",
       "      <td>1992-09-04</td>\n",
       "      <td>2040920</td>\n",
       "      <td>81.0</td>\n",
       "      <td>[{\"iso_639_1\": \"es\", \"name\": \"Espa\\u00f1ol\"}]</td>\n",
       "      <td>Released</td>\n",
       "      <td>He didn't come looking for trouble, but troubl...</td>\n",
       "      <td>El Mariachi</td>\n",
       "      <td>6.6</td>\n",
       "      <td>238</td>\n",
       "    </tr>\n",
       "  </tbody>\n",
       "</table>\n",
       "<p>298 rows × 20 columns</p>\n",
       "</div>"
      ],
      "text/plain": [
       "        budget                                             genres  \\\n",
       "97    15000000  [{\"id\": 28, \"name\": \"Action\"}, {\"id\": 12, \"nam...   \n",
       "235   97250400  [{\"id\": 14, \"name\": \"Fantasy\"}, {\"id\": 12, \"na...   \n",
       "317   94000000  [{\"id\": 18, \"name\": \"Drama\"}, {\"id\": 36, \"name...   \n",
       "474          0  [{\"id\": 9648, \"name\": \"Mystery\"}, {\"id\": 18, \"...   \n",
       "492    8000000  [{\"id\": 35, \"name\": \"Comedy\"}, {\"id\": 16, \"nam...   \n",
       "...        ...                                                ...   \n",
       "4739         0  [{\"id\": 35, \"name\": \"Comedy\"}, {\"id\": 10749, \"...   \n",
       "4751         0  [{\"id\": 18, \"name\": \"Drama\"}, {\"id\": 10749, \"n...   \n",
       "4790         0  [{\"id\": 18, \"name\": \"Drama\"}, {\"id\": 10769, \"n...   \n",
       "4792     20000  [{\"id\": 80, \"name\": \"Crime\"}, {\"id\": 27, \"name...   \n",
       "4798    220000  [{\"id\": 28, \"name\": \"Action\"}, {\"id\": 80, \"nam...   \n",
       "\n",
       "                                               homepage      id  \\\n",
       "97                                                  NaN  315011   \n",
       "235   http://www.asterixauxjeuxolympiques.com/index.php    2395   \n",
       "317                http://www.theflowersofwarmovie.com/   76758   \n",
       "474                                                 NaN  330770   \n",
       "492                                                 NaN  293644   \n",
       "...                                                 ...     ...   \n",
       "4739                                                NaN   90414   \n",
       "4751                                                NaN   42109   \n",
       "4790                                                NaN   13898   \n",
       "4792                                                NaN   36095   \n",
       "4798                                                NaN    9367   \n",
       "\n",
       "                                               keywords original_language  \\\n",
       "97    [{\"id\": 1299, \"name\": \"monster\"}, {\"id\": 7671,...                ja   \n",
       "235   [{\"id\": 271, \"name\": \"competition\"}, {\"id\": 12...                fr   \n",
       "317   [{\"id\": 173251, \"name\": \"forced prostitution\"}...                zh   \n",
       "474   [{\"id\": 428, \"name\": \"nurse\"}, {\"id\": 658, \"na...                fr   \n",
       "492                      [{\"id\": 209714, \"name\": \"3d\"}]                es   \n",
       "...                                                 ...               ...   \n",
       "4739         [{\"id\": 187056, \"name\": \"woman director\"}]                fr   \n",
       "4751                                                 []                pt   \n",
       "4790                                                 []                fa   \n",
       "4792  [{\"id\": 233, \"name\": \"japan\"}, {\"id\": 549, \"na...                ja   \n",
       "4798  [{\"id\": 5616, \"name\": \"united states\\u2013mexi...                es   \n",
       "\n",
       "                          original_title  \\\n",
       "97                                シン・ゴジラ   \n",
       "235          Astérix aux Jeux Olympiques   \n",
       "317                                金陵十三釵   \n",
       "474                            Évolution   \n",
       "492   Don Gato: El inicio de la pandilla   \n",
       "...                                  ...   \n",
       "4739         I Love You, Don't Touch Me!   \n",
       "4751            Gabriela, Cravo e Canela   \n",
       "4790                               دایره   \n",
       "4792                                 キュア   \n",
       "4798                         El Mariachi   \n",
       "\n",
       "                                               overview  popularity  \\\n",
       "97    From the mind behind Evangelion comes a hit la...    9.476999   \n",
       "235   Astérix and Obélix have to win the Olympic Gam...   20.344364   \n",
       "317   A Westerner finds refuge with a group of women...   12.516546   \n",
       "474   11-year-old Nicolas lives with his mother in a...    3.300061   \n",
       "492   Top Cat has arrived to charm his way into your...    0.719996   \n",
       "...                                                 ...         ...   \n",
       "4739  The story of a 25 year old virgin girl, lookin...    0.020839   \n",
       "4751  In 1925, Gabriela becomes cook, mistress, and ...    0.557602   \n",
       "4790  Various women struggle to function in the oppr...    1.193779   \n",
       "4792  A wave of gruesome murders is sweeping Tokyo. ...    0.212443   \n",
       "4798  El Mariachi just wants to play his guitar and ...   14.269792   \n",
       "\n",
       "                                   production_companies  \\\n",
       "97    [{\"name\": \"Cine Bazar\", \"id\": 5896}, {\"name\": ...   \n",
       "235   [{\"name\": \"Constantin Film\", \"id\": 47}, {\"name...   \n",
       "317   [{\"name\": \"Beijing New Picture Film Co. Ltd.\",...   \n",
       "474   [{\"name\": \"Ex Nihilo\", \"id\": 3307}, {\"name\": \"...   \n",
       "492   [{\"name\": \"Anima Estudios\", \"id\": 9965}, {\"nam...   \n",
       "...                                                 ...   \n",
       "4739                                                 []   \n",
       "4751  [{\"name\": \"United Artists\", \"id\": 60}, {\"name\"...   \n",
       "4790  [{\"name\": \"Jafar Panahi Film Productions\", \"id...   \n",
       "4792             [{\"name\": \"Daiei Studios\", \"id\": 881}]   \n",
       "4798           [{\"name\": \"Columbia Pictures\", \"id\": 5}]   \n",
       "\n",
       "                                   production_countries release_date  \\\n",
       "97              [{\"iso_3166_1\": \"JP\", \"name\": \"Japan\"}]   2016-07-29   \n",
       "235   [{\"iso_3166_1\": \"BE\", \"name\": \"Belgium\"}, {\"is...   2008-01-13   \n",
       "317   [{\"iso_3166_1\": \"CN\", \"name\": \"China\"}, {\"iso_...   2011-12-15   \n",
       "474   [{\"iso_3166_1\": \"BE\", \"name\": \"Belgium\"}, {\"is...   2015-09-14   \n",
       "492   [{\"iso_3166_1\": \"IN\", \"name\": \"India\"}, {\"iso_...   2015-10-30   \n",
       "...                                                 ...          ...   \n",
       "4739  [{\"iso_3166_1\": \"US\", \"name\": \"United States o...   1997-01-21   \n",
       "4751           [{\"iso_3166_1\": \"BR\", \"name\": \"Brazil\"}]   1983-03-24   \n",
       "4790             [{\"iso_3166_1\": \"IR\", \"name\": \"Iran\"}]   2000-09-08   \n",
       "4792            [{\"iso_3166_1\": \"JP\", \"name\": \"Japan\"}]   1997-11-06   \n",
       "4798  [{\"iso_3166_1\": \"MX\", \"name\": \"Mexico\"}, {\"iso...   1992-09-04   \n",
       "\n",
       "        revenue  runtime                                   spoken_languages  \\\n",
       "97     77000000    120.0  [{\"iso_639_1\": \"it\", \"name\": \"Italiano\"}, {\"is...   \n",
       "235   132900000    116.0  [{\"iso_639_1\": \"fr\", \"name\": \"Fran\\u00e7ais\"},...   \n",
       "317    95311434    145.0  [{\"iso_639_1\": \"zh\", \"name\": \"\\u666e\\u901a\\u8b...   \n",
       "474           0     81.0     [{\"iso_639_1\": \"fr\", \"name\": \"Fran\\u00e7ais\"}]   \n",
       "492           0     89.0                                                 []   \n",
       "...         ...      ...                                                ...   \n",
       "4739          0     86.0           [{\"iso_639_1\": \"en\", \"name\": \"English\"}]   \n",
       "4751          0     99.0    [{\"iso_639_1\": \"pt\", \"name\": \"Portugu\\u00eas\"}]   \n",
       "4790          0     90.0  [{\"iso_639_1\": \"fa\", \"name\": \"\\u0641\\u0627\\u06...   \n",
       "4792      99000    111.0  [{\"iso_639_1\": \"ja\", \"name\": \"\\u65e5\\u672c\\u8a...   \n",
       "4798    2040920     81.0      [{\"iso_639_1\": \"es\", \"name\": \"Espa\\u00f1ol\"}]   \n",
       "\n",
       "        status                                            tagline  \\\n",
       "97    Released                    A god incarnate. A city doomed.   \n",
       "235   Released                                                NaN   \n",
       "317   Released                                                NaN   \n",
       "474   Released                                                NaN   \n",
       "492   Released                                                NaN   \n",
       "...        ...                                                ...   \n",
       "4739  Released  Just Your Typical Boy-Loves-Girl Who Doesn't L...   \n",
       "4751  Released                                                NaN   \n",
       "4790  Released                                                NaN   \n",
       "4792  Released                           Madness. Terror. Murder.   \n",
       "4798  Released  He didn't come looking for trouble, but troubl...   \n",
       "\n",
       "                             title  vote_average  vote_count  \n",
       "97                   Shin Godzilla           6.5         143  \n",
       "235   Asterix at the Olympic Games           5.0         471  \n",
       "317             The Flowers of War           7.1         187  \n",
       "474                      Evolution           6.4          47  \n",
       "492                 Top Cat Begins           5.3           9  \n",
       "...                            ...           ...         ...  \n",
       "4739   I Love You, Don't Touch Me!           6.0           1  \n",
       "4751                      Gabriela           6.0           2  \n",
       "4790                    The Circle           6.6          17  \n",
       "4792                          Cure           7.4          63  \n",
       "4798                   El Mariachi           6.6         238  \n",
       "\n",
       "[298 rows x 20 columns]"
      ]
     },
     "execution_count": 50,
     "metadata": {},
     "output_type": "execute_result"
    }
   ],
   "source": [
    "tmdb.query(\"original_language != 'en'\")"
   ]
  },
  {
   "cell_type": "code",
   "execution_count": 43,
   "id": "fd795774",
   "metadata": {},
   "outputs": [
    {
     "data": {
      "text/plain": [
       "fr    70\n",
       "es    32\n",
       "zh    27\n",
       "de    27\n",
       "hi    19\n",
       "ja    16\n",
       "it    14\n",
       "cn    12\n",
       "ko    11\n",
       "ru    11\n",
       "pt     9\n",
       "da     7\n",
       "sv     5\n",
       "fa     4\n",
       "nl     4\n",
       "he     3\n",
       "th     3\n",
       "ro     2\n",
       "id     2\n",
       "ar     2\n",
       "cs     2\n",
       "ta     2\n",
       "tr     1\n",
       "nb     1\n",
       "af     1\n",
       "pl     1\n",
       "is     1\n",
       "hu     1\n",
       "vi     1\n",
       "ky     1\n",
       "xx     1\n",
       "te     1\n",
       "no     1\n",
       "sl     1\n",
       "ps     1\n",
       "el     1\n",
       "Name: original_language, dtype: int64"
      ]
     },
     "execution_count": 43,
     "metadata": {},
     "output_type": "execute_result"
    }
   ],
   "source": [
    "tmdb.query(\"original_language != 'en'\").original_language.value_counts()"
   ]
  },
  {
   "cell_type": "code",
   "execution_count": 56,
   "id": "89c6c980",
   "metadata": {},
   "outputs": [],
   "source": [
    "import seaborn as sns"
   ]
  },
  {
   "cell_type": "code",
   "execution_count": 57,
   "id": "f62bc3d6",
   "metadata": {},
   "outputs": [],
   "source": [
    "filmes_sem_lingua_original_em_ingles=tmdb.query(\"original_language !='en'\")"
   ]
  },
  {
   "cell_type": "code",
   "execution_count": 58,
   "id": "52a02a31",
   "metadata": {},
   "outputs": [
    {
     "data": {
      "text/plain": [
       "<seaborn.axisgrid.FacetGrid at 0x271930606d0>"
      ]
     },
     "execution_count": 58,
     "metadata": {},
     "output_type": "execute_result"
    },
    {
     "data": {
      "image/png": "[encoded data removed]",
      "text/plain": [
       "<Figure size 360x360 with 1 Axes>"
      ]
     },
     "metadata": {
      "needs_background": "light"
     },
     "output_type": "display_data"
    }
   ],
   "source": [
    "sns.catplot(x = \"original_language\", data = filmes_sem_lingua_original_em_ingles, kind=\"count\")"
   ]
  },
  {
   "cell_type": "code",
   "execution_count": 59,
   "id": "14b43f5b",
   "metadata": {},
   "outputs": [
    {
     "data": {
      "text/plain": [
       "<seaborn.axisgrid.FacetGrid at 0x271930b7550>"
      ]
     },
     "execution_count": 59,
     "metadata": {},
     "output_type": "execute_result"
    },
    {
     "data": {
      "text/plain": [
       "<Figure size 360x720 with 0 Axes>"
      ]
     },
     "metadata": {},
     "output_type": "display_data"
    },
    {
     "data": {
      "image/png": "[encoded data removed]",
      "text/plain": [
       "<Figure size 360x360 with 1 Axes>"
      ]
     },
     "metadata": {
      "needs_background": "light"
     },
     "output_type": "display_data"
    }
   ],
   "source": [
    "plt.figure(figsize=(5,10))\n",
    "\n",
    "sns.catplot(x = \"original_language\", data = filmes_sem_lingua_original_em_ingles, kind=\"count\")"
   ]
  },
  {
   "cell_type": "code",
   "execution_count": 60,
   "id": "2672a704",
   "metadata": {},
   "outputs": [
    {
     "data": {
      "text/plain": [
       "<seaborn.axisgrid.FacetGrid at 0x27193094400>"
      ]
     },
     "execution_count": 60,
     "metadata": {},
     "output_type": "execute_result"
    },
    {
     "data": {
      "image/png": "[encoded data removed]",
      "text/plain": [
       "<Figure size 720x360 with 1 Axes>"
      ]
     },
     "metadata": {
      "needs_background": "light"
     },
     "output_type": "display_data"
    }
   ],
   "source": [
    "sns.catplot(x = \"original_language\", data = filmes_sem_lingua_original_em_ingles, kind=\"count\", aspect=2)"
   ]
  },
  {
   "cell_type": "code",
   "execution_count": 61,
   "id": "1934bda4",
   "metadata": {},
   "outputs": [],
   "source": [
    "filmes_sem_lingua_original_em_ingles = tmdb.query(\"original_language != 'en'\")"
   ]
  },
  {
   "cell_type": "code",
   "execution_count": 62,
   "id": "a644a153",
   "metadata": {},
   "outputs": [
    {
     "ename": "NameError",
     "evalue": "name 'total_por_lingua_de_outros_filmes' is not defined",
     "output_type": "error",
     "traceback": [
      "\u001b[1;31m---------------------------------------------------------------------------\u001b[0m",
      "\u001b[1;31mNameError\u001b[0m                                 Traceback (most recent call last)",
      "Input \u001b[1;32mIn [62]\u001b[0m, in \u001b[0;36m<cell line: 1>\u001b[1;34m()\u001b[0m\n\u001b[0;32m      1\u001b[0m sns\u001b[38;5;241m.\u001b[39mcatplot(x \u001b[38;5;241m=\u001b[39m \u001b[38;5;124m\"\u001b[39m\u001b[38;5;124moriginal_language\u001b[39m\u001b[38;5;124m\"\u001b[39m, \n\u001b[0;32m      2\u001b[0m             kind\u001b[38;5;241m=\u001b[39m\u001b[38;5;124m\"\u001b[39m\u001b[38;5;124mcount\u001b[39m\u001b[38;5;124m\"\u001b[39m,\n\u001b[0;32m      3\u001b[0m             data \u001b[38;5;241m=\u001b[39m filmes_sem_lingua_original_em_ingles, \n\u001b[0;32m      4\u001b[0m             aspect\u001b[38;5;241m=\u001b[39m\u001b[38;5;241m2\u001b[39m,\n\u001b[1;32m----> 5\u001b[0m             order\u001b[38;5;241m=\u001b[39m\u001b[43mtotal_por_lingua_de_outros_filmes\u001b[49m\u001b[38;5;241m.\u001b[39mindex)\n",
      "\u001b[1;31mNameError\u001b[0m: name 'total_por_lingua_de_outros_filmes' is not defined"
     ]
    }
   ],
   "source": [
    "sns.catplot(x = \"original_language\", \n",
    "            kind=\"count\",\n",
    "            data = filmes_sem_lingua_original_em_ingles, \n",
    "            aspect=2,\n",
    "            order=total_por_lingua_de_outros_filmes.index)\n",
    "            "
   ]
  },
  {
   "cell_type": "code",
   "execution_count": 63,
   "id": "d6b27385",
   "metadata": {},
   "outputs": [
    {
     "ename": "NameError",
     "evalue": "name 'total_por_lingua_de_outros_filmes' is not defined",
     "output_type": "error",
     "traceback": [
      "\u001b[1;31m---------------------------------------------------------------------------\u001b[0m",
      "\u001b[1;31mNameError\u001b[0m                                 Traceback (most recent call last)",
      "Input \u001b[1;32mIn [63]\u001b[0m, in \u001b[0;36m<cell line: 1>\u001b[1;34m()\u001b[0m\n\u001b[0;32m      1\u001b[0m sns\u001b[38;5;241m.\u001b[39mcatplot(x \u001b[38;5;241m=\u001b[39m \u001b[38;5;124m\"\u001b[39m\u001b[38;5;124moriginal_language\u001b[39m\u001b[38;5;124m\"\u001b[39m, data \u001b[38;5;241m=\u001b[39m filmes_sem_lingua_original_em_ingles, \n\u001b[0;32m      2\u001b[0m             kind\u001b[38;5;241m=\u001b[39m\u001b[38;5;124m\"\u001b[39m\u001b[38;5;124mcount\u001b[39m\u001b[38;5;124m\"\u001b[39m, \n\u001b[0;32m      3\u001b[0m             aspect\u001b[38;5;241m=\u001b[39m\u001b[38;5;241m2\u001b[39m,\n\u001b[0;32m      4\u001b[0m             palette\u001b[38;5;241m=\u001b[39m\u001b[38;5;124m\"\u001b[39m\u001b[38;5;124mGnBu_d\u001b[39m\u001b[38;5;124m\"\u001b[39m,\n\u001b[1;32m----> 5\u001b[0m             order\u001b[38;5;241m=\u001b[39m\u001b[43mtotal_por_lingua_de_outros_filmes\u001b[49m\u001b[38;5;241m.\u001b[39mindex)\n",
      "\u001b[1;31mNameError\u001b[0m: name 'total_por_lingua_de_outros_filmes' is not defined"
     ]
    }
   ],
   "source": [
    "sns.catplot(x = \"original_language\", data = filmes_sem_lingua_original_em_ingles, \n",
    "            kind=\"count\", \n",
    "            aspect=2,\n",
    "            palette=\"GnBu_d\",\n",
    "            order=total_por_lingua_de_outros_filmes.index)"
   ]
  },
  {
   "cell_type": "code",
   "execution_count": 65,
   "id": "697f6f7c",
   "metadata": {},
   "outputs": [
    {
     "ename": "NameError",
     "evalue": "name 'notas' is not defined",
     "output_type": "error",
     "traceback": [
      "\u001b[1;31m---------------------------------------------------------------------------\u001b[0m",
      "\u001b[1;31mNameError\u001b[0m                                 Traceback (most recent call last)",
      "Input \u001b[1;32mIn [65]\u001b[0m, in \u001b[0;36m<cell line: 1>\u001b[1;34m()\u001b[0m\n\u001b[1;32m----> 1\u001b[0m \u001b[43mnotas\u001b[49m\u001b[38;5;241m.\u001b[39mhead()\n",
      "\u001b[1;31mNameError\u001b[0m: name 'notas' is not defined"
     ]
    }
   ],
   "source": [
    "notas.head()"
   ]
  },
  {
   "cell_type": "code",
   "execution_count": 71,
   "id": "94822c31",
   "metadata": {},
   "outputs": [
    {
     "data": {
      "text/html": [
       "<div>\n",
       "<style scoped>\n",
       "    .dataframe tbody tr th:only-of-type {\n",
       "        vertical-align: middle;\n",
       "    }\n",
       "\n",
       "    .dataframe tbody tr th {\n",
       "        vertical-align: top;\n",
       "    }\n",
       "\n",
       "    .dataframe thead th {\n",
       "        text-align: right;\n",
       "    }\n",
       "</style>\n",
       "<table border=\"1\" class=\"dataframe\">\n",
       "  <thead>\n",
       "    <tr style=\"text-align: right;\">\n",
       "      <th></th>\n",
       "      <th>userId</th>\n",
       "      <th>movieId</th>\n",
       "      <th>rating</th>\n",
       "      <th>timestamp</th>\n",
       "    </tr>\n",
       "  </thead>\n",
       "  <tbody>\n",
       "    <tr>\n",
       "      <th>0</th>\n",
       "      <td>1</td>\n",
       "      <td>1</td>\n",
       "      <td>4.0</td>\n",
       "      <td>964982703</td>\n",
       "    </tr>\n",
       "    <tr>\n",
       "      <th>1</th>\n",
       "      <td>1</td>\n",
       "      <td>3</td>\n",
       "      <td>4.0</td>\n",
       "      <td>964981247</td>\n",
       "    </tr>\n",
       "    <tr>\n",
       "      <th>2</th>\n",
       "      <td>1</td>\n",
       "      <td>6</td>\n",
       "      <td>4.0</td>\n",
       "      <td>964982224</td>\n",
       "    </tr>\n",
       "    <tr>\n",
       "      <th>3</th>\n",
       "      <td>1</td>\n",
       "      <td>47</td>\n",
       "      <td>5.0</td>\n",
       "      <td>964983815</td>\n",
       "    </tr>\n",
       "    <tr>\n",
       "      <th>4</th>\n",
       "      <td>1</td>\n",
       "      <td>50</td>\n",
       "      <td>5.0</td>\n",
       "      <td>964982931</td>\n",
       "    </tr>\n",
       "  </tbody>\n",
       "</table>\n",
       "</div>"
      ],
      "text/plain": [
       "   userId  movieId  rating  timestamp\n",
       "0       1        1     4.0  964982703\n",
       "1       1        3     4.0  964981247\n",
       "2       1        6     4.0  964982224\n",
       "3       1       47     5.0  964983815\n",
       "4       1       50     5.0  964982931"
      ]
     },
     "execution_count": 71,
     "metadata": {},
     "output_type": "execute_result"
    }
   ],
   "source": [
    "import pandas as pd\n",
    "notas=pd.read_csv(\"ratings.csv\")\n",
    "notas.head()"
   ]
  },
  {
   "cell_type": "code",
   "execution_count": 72,
   "id": "1aabf4a6",
   "metadata": {},
   "outputs": [
    {
     "data": {
      "text/html": [
       "<div>\n",
       "<style scoped>\n",
       "    .dataframe tbody tr th:only-of-type {\n",
       "        vertical-align: middle;\n",
       "    }\n",
       "\n",
       "    .dataframe tbody tr th {\n",
       "        vertical-align: top;\n",
       "    }\n",
       "\n",
       "    .dataframe thead th {\n",
       "        text-align: right;\n",
       "    }\n",
       "</style>\n",
       "<table border=\"1\" class=\"dataframe\">\n",
       "  <thead>\n",
       "    <tr style=\"text-align: right;\">\n",
       "      <th></th>\n",
       "      <th>filmeId</th>\n",
       "      <th>titulo</th>\n",
       "      <th>generos</th>\n",
       "    </tr>\n",
       "  </thead>\n",
       "  <tbody>\n",
       "    <tr>\n",
       "      <th>0</th>\n",
       "      <td>1</td>\n",
       "      <td>Toy Story (1995)</td>\n",
       "      <td>Adventure|Animation|Children|Comedy|Fantasy</td>\n",
       "    </tr>\n",
       "    <tr>\n",
       "      <th>1</th>\n",
       "      <td>2</td>\n",
       "      <td>Jumanji (1995)</td>\n",
       "      <td>Adventure|Children|Fantasy</td>\n",
       "    </tr>\n",
       "    <tr>\n",
       "      <th>2</th>\n",
       "      <td>3</td>\n",
       "      <td>Grumpier Old Men (1995)</td>\n",
       "      <td>Comedy|Romance</td>\n",
       "    </tr>\n",
       "    <tr>\n",
       "      <th>3</th>\n",
       "      <td>4</td>\n",
       "      <td>Waiting to Exhale (1995)</td>\n",
       "      <td>Comedy|Drama|Romance</td>\n",
       "    </tr>\n",
       "    <tr>\n",
       "      <th>4</th>\n",
       "      <td>5</td>\n",
       "      <td>Father of the Bride Part II (1995)</td>\n",
       "      <td>Comedy</td>\n",
       "    </tr>\n",
       "  </tbody>\n",
       "</table>\n",
       "</div>"
      ],
      "text/plain": [
       "   filmeId                              titulo  \\\n",
       "0        1                    Toy Story (1995)   \n",
       "1        2                      Jumanji (1995)   \n",
       "2        3             Grumpier Old Men (1995)   \n",
       "3        4            Waiting to Exhale (1995)   \n",
       "4        5  Father of the Bride Part II (1995)   \n",
       "\n",
       "                                       generos  \n",
       "0  Adventure|Animation|Children|Comedy|Fantasy  \n",
       "1                   Adventure|Children|Fantasy  \n",
       "2                               Comedy|Romance  \n",
       "3                         Comedy|Drama|Romance  \n",
       "4                                       Comedy  "
      ]
     },
     "execution_count": 72,
     "metadata": {},
     "output_type": "execute_result"
    }
   ],
   "source": [
    "filmes=pd.read_csv(\"movies.csv\")\n",
    "filmes.columns = [\"filmeId\", \"titulo\", \"generos\"]\n",
    "filmes.head()"
   ]
  },
  {
   "cell_type": "code",
   "execution_count": 74,
   "id": "1eaa6631",
   "metadata": {},
   "outputs": [
    {
     "ename": "UndefinedVariableError",
     "evalue": "name 'filmeId' is not defined",
     "output_type": "error",
     "traceback": [
      "\u001b[1;31m---------------------------------------------------------------------------\u001b[0m",
      "\u001b[1;31mKeyError\u001b[0m                                  Traceback (most recent call last)",
      "File \u001b[1;32m~\\anaconda3\\lib\\site-packages\\pandas\\core\\computation\\scope.py:195\u001b[0m, in \u001b[0;36mScope.resolve\u001b[1;34m(self, key, is_local)\u001b[0m\n\u001b[0;32m    194\u001b[0m \u001b[38;5;28;01mif\u001b[39;00m \u001b[38;5;28mself\u001b[39m\u001b[38;5;241m.\u001b[39mhas_resolvers:\n\u001b[1;32m--> 195\u001b[0m     \u001b[38;5;28;01mreturn\u001b[39;00m \u001b[38;5;28;43mself\u001b[39;49m\u001b[38;5;241;43m.\u001b[39;49m\u001b[43mresolvers\u001b[49m\u001b[43m[\u001b[49m\u001b[43mkey\u001b[49m\u001b[43m]\u001b[49m\n\u001b[0;32m    197\u001b[0m \u001b[38;5;66;03m# if we're here that means that we have no locals and we also have\u001b[39;00m\n\u001b[0;32m    198\u001b[0m \u001b[38;5;66;03m# no resolvers\u001b[39;00m\n",
      "File \u001b[1;32m~\\anaconda3\\lib\\collections\\__init__.py:941\u001b[0m, in \u001b[0;36mChainMap.__getitem__\u001b[1;34m(self, key)\u001b[0m\n\u001b[0;32m    940\u001b[0m         \u001b[38;5;28;01mpass\u001b[39;00m\n\u001b[1;32m--> 941\u001b[0m \u001b[38;5;28;01mreturn\u001b[39;00m \u001b[38;5;28;43mself\u001b[39;49m\u001b[38;5;241;43m.\u001b[39;49m\u001b[38;5;21;43m__missing__\u001b[39;49m\u001b[43m(\u001b[49m\u001b[43mkey\u001b[49m\u001b[43m)\u001b[49m\n",
      "File \u001b[1;32m~\\anaconda3\\lib\\collections\\__init__.py:933\u001b[0m, in \u001b[0;36mChainMap.__missing__\u001b[1;34m(self, key)\u001b[0m\n\u001b[0;32m    932\u001b[0m \u001b[38;5;28;01mdef\u001b[39;00m \u001b[38;5;21m__missing__\u001b[39m(\u001b[38;5;28mself\u001b[39m, key):\n\u001b[1;32m--> 933\u001b[0m     \u001b[38;5;28;01mraise\u001b[39;00m \u001b[38;5;167;01mKeyError\u001b[39;00m(key)\n",
      "\u001b[1;31mKeyError\u001b[0m: 'filmeId'",
      "\nDuring handling of the above exception, another exception occurred:\n",
      "\u001b[1;31mKeyError\u001b[0m                                  Traceback (most recent call last)",
      "File \u001b[1;32m~\\anaconda3\\lib\\site-packages\\pandas\\core\\computation\\scope.py:206\u001b[0m, in \u001b[0;36mScope.resolve\u001b[1;34m(self, key, is_local)\u001b[0m\n\u001b[0;32m    202\u001b[0m \u001b[38;5;28;01mtry\u001b[39;00m:\n\u001b[0;32m    203\u001b[0m     \u001b[38;5;66;03m# last ditch effort we look in temporaries\u001b[39;00m\n\u001b[0;32m    204\u001b[0m     \u001b[38;5;66;03m# these are created when parsing indexing expressions\u001b[39;00m\n\u001b[0;32m    205\u001b[0m     \u001b[38;5;66;03m# e.g., df[df > 0]\u001b[39;00m\n\u001b[1;32m--> 206\u001b[0m     \u001b[38;5;28;01mreturn\u001b[39;00m \u001b[38;5;28;43mself\u001b[39;49m\u001b[38;5;241;43m.\u001b[39;49m\u001b[43mtemps\u001b[49m\u001b[43m[\u001b[49m\u001b[43mkey\u001b[49m\u001b[43m]\u001b[49m\n\u001b[0;32m    207\u001b[0m \u001b[38;5;28;01mexcept\u001b[39;00m \u001b[38;5;167;01mKeyError\u001b[39;00m \u001b[38;5;28;01mas\u001b[39;00m err:\n\u001b[0;32m    208\u001b[0m     \u001b[38;5;66;03m# runtime import because ops imports from scope\u001b[39;00m\n",
      "\u001b[1;31mKeyError\u001b[0m: 'filmeId'",
      "\nThe above exception was the direct cause of the following exception:\n",
      "\u001b[1;31mUndefinedVariableError\u001b[0m                    Traceback (most recent call last)",
      "Input \u001b[1;32mIn [74]\u001b[0m, in \u001b[0;36m<cell line: 1>\u001b[1;34m()\u001b[0m\n\u001b[1;32m----> 1\u001b[0m notas_do_toy_story \u001b[38;5;241m=\u001b[39m \u001b[43mnotas\u001b[49m\u001b[38;5;241;43m.\u001b[39;49m\u001b[43mquery\u001b[49m\u001b[43m(\u001b[49m\u001b[38;5;124;43m\"\u001b[39;49m\u001b[38;5;124;43mfilmeId==1\u001b[39;49m\u001b[38;5;124;43m\"\u001b[39;49m\u001b[43m)\u001b[49m\n\u001b[0;32m      2\u001b[0m notas_do_jumanji \u001b[38;5;241m=\u001b[39m notas\u001b[38;5;241m.\u001b[39mquery(\u001b[38;5;124m\"\u001b[39m\u001b[38;5;124mfilmeId==2\u001b[39m\u001b[38;5;124m\"\u001b[39m)\n\u001b[0;32m      3\u001b[0m \u001b[38;5;28mprint\u001b[39m(\u001b[38;5;28mlen\u001b[39m(notas_do_toy_story), \u001b[38;5;28mlen\u001b[39m(notas_do_jumanji))\n",
      "File \u001b[1;32m~\\anaconda3\\lib\\site-packages\\pandas\\core\\frame.py:4111\u001b[0m, in \u001b[0;36mDataFrame.query\u001b[1;34m(self, expr, inplace, **kwargs)\u001b[0m\n\u001b[0;32m   4109\u001b[0m kwargs[\u001b[38;5;124m\"\u001b[39m\u001b[38;5;124mlevel\u001b[39m\u001b[38;5;124m\"\u001b[39m] \u001b[38;5;241m=\u001b[39m kwargs\u001b[38;5;241m.\u001b[39mpop(\u001b[38;5;124m\"\u001b[39m\u001b[38;5;124mlevel\u001b[39m\u001b[38;5;124m\"\u001b[39m, \u001b[38;5;241m0\u001b[39m) \u001b[38;5;241m+\u001b[39m \u001b[38;5;241m1\u001b[39m\n\u001b[0;32m   4110\u001b[0m kwargs[\u001b[38;5;124m\"\u001b[39m\u001b[38;5;124mtarget\u001b[39m\u001b[38;5;124m\"\u001b[39m] \u001b[38;5;241m=\u001b[39m \u001b[38;5;28;01mNone\u001b[39;00m\n\u001b[1;32m-> 4111\u001b[0m res \u001b[38;5;241m=\u001b[39m \u001b[38;5;28mself\u001b[39m\u001b[38;5;241m.\u001b[39meval(expr, \u001b[38;5;241m*\u001b[39m\u001b[38;5;241m*\u001b[39mkwargs)\n\u001b[0;32m   4113\u001b[0m \u001b[38;5;28;01mtry\u001b[39;00m:\n\u001b[0;32m   4114\u001b[0m     result \u001b[38;5;241m=\u001b[39m \u001b[38;5;28mself\u001b[39m\u001b[38;5;241m.\u001b[39mloc[res]\n",
      "File \u001b[1;32m~\\anaconda3\\lib\\site-packages\\pandas\\core\\frame.py:4240\u001b[0m, in \u001b[0;36mDataFrame.eval\u001b[1;34m(self, expr, inplace, **kwargs)\u001b[0m\n\u001b[0;32m   4237\u001b[0m     kwargs[\u001b[38;5;124m\"\u001b[39m\u001b[38;5;124mtarget\u001b[39m\u001b[38;5;124m\"\u001b[39m] \u001b[38;5;241m=\u001b[39m \u001b[38;5;28mself\u001b[39m\n\u001b[0;32m   4238\u001b[0m kwargs[\u001b[38;5;124m\"\u001b[39m\u001b[38;5;124mresolvers\u001b[39m\u001b[38;5;124m\"\u001b[39m] \u001b[38;5;241m=\u001b[39m \u001b[38;5;28mtuple\u001b[39m(kwargs\u001b[38;5;241m.\u001b[39mget(\u001b[38;5;124m\"\u001b[39m\u001b[38;5;124mresolvers\u001b[39m\u001b[38;5;124m\"\u001b[39m, ())) \u001b[38;5;241m+\u001b[39m resolvers\n\u001b[1;32m-> 4240\u001b[0m \u001b[38;5;28;01mreturn\u001b[39;00m _eval(expr, inplace\u001b[38;5;241m=\u001b[39minplace, \u001b[38;5;241m*\u001b[39m\u001b[38;5;241m*\u001b[39mkwargs)\n",
      "File \u001b[1;32m~\\anaconda3\\lib\\site-packages\\pandas\\core\\computation\\eval.py:350\u001b[0m, in \u001b[0;36meval\u001b[1;34m(expr, parser, engine, truediv, local_dict, global_dict, resolvers, level, target, inplace)\u001b[0m\n\u001b[0;32m    341\u001b[0m \u001b[38;5;66;03m# get our (possibly passed-in) scope\u001b[39;00m\n\u001b[0;32m    342\u001b[0m env \u001b[38;5;241m=\u001b[39m ensure_scope(\n\u001b[0;32m    343\u001b[0m     level \u001b[38;5;241m+\u001b[39m \u001b[38;5;241m1\u001b[39m,\n\u001b[0;32m    344\u001b[0m     global_dict\u001b[38;5;241m=\u001b[39mglobal_dict,\n\u001b[1;32m   (...)\u001b[0m\n\u001b[0;32m    347\u001b[0m     target\u001b[38;5;241m=\u001b[39mtarget,\n\u001b[0;32m    348\u001b[0m )\n\u001b[1;32m--> 350\u001b[0m parsed_expr \u001b[38;5;241m=\u001b[39m \u001b[43mExpr\u001b[49m\u001b[43m(\u001b[49m\u001b[43mexpr\u001b[49m\u001b[43m,\u001b[49m\u001b[43m \u001b[49m\u001b[43mengine\u001b[49m\u001b[38;5;241;43m=\u001b[39;49m\u001b[43mengine\u001b[49m\u001b[43m,\u001b[49m\u001b[43m \u001b[49m\u001b[43mparser\u001b[49m\u001b[38;5;241;43m=\u001b[39;49m\u001b[43mparser\u001b[49m\u001b[43m,\u001b[49m\u001b[43m \u001b[49m\u001b[43menv\u001b[49m\u001b[38;5;241;43m=\u001b[39;49m\u001b[43menv\u001b[49m\u001b[43m)\u001b[49m\n\u001b[0;32m    352\u001b[0m \u001b[38;5;66;03m# construct the engine and evaluate the parsed expression\u001b[39;00m\n\u001b[0;32m    353\u001b[0m eng \u001b[38;5;241m=\u001b[39m ENGINES[engine]\n",
      "File \u001b[1;32m~\\anaconda3\\lib\\site-packages\\pandas\\core\\computation\\expr.py:811\u001b[0m, in \u001b[0;36mExpr.__init__\u001b[1;34m(self, expr, engine, parser, env, level)\u001b[0m\n\u001b[0;32m    809\u001b[0m \u001b[38;5;28mself\u001b[39m\u001b[38;5;241m.\u001b[39mparser \u001b[38;5;241m=\u001b[39m parser\n\u001b[0;32m    810\u001b[0m \u001b[38;5;28mself\u001b[39m\u001b[38;5;241m.\u001b[39m_visitor \u001b[38;5;241m=\u001b[39m PARSERS[parser](\u001b[38;5;28mself\u001b[39m\u001b[38;5;241m.\u001b[39menv, \u001b[38;5;28mself\u001b[39m\u001b[38;5;241m.\u001b[39mengine, \u001b[38;5;28mself\u001b[39m\u001b[38;5;241m.\u001b[39mparser)\n\u001b[1;32m--> 811\u001b[0m \u001b[38;5;28mself\u001b[39m\u001b[38;5;241m.\u001b[39mterms \u001b[38;5;241m=\u001b[39m \u001b[38;5;28;43mself\u001b[39;49m\u001b[38;5;241;43m.\u001b[39;49m\u001b[43mparse\u001b[49m\u001b[43m(\u001b[49m\u001b[43m)\u001b[49m\n",
      "File \u001b[1;32m~\\anaconda3\\lib\\site-packages\\pandas\\core\\computation\\expr.py:830\u001b[0m, in \u001b[0;36mExpr.parse\u001b[1;34m(self)\u001b[0m\n\u001b[0;32m    826\u001b[0m \u001b[38;5;28;01mdef\u001b[39;00m \u001b[38;5;21mparse\u001b[39m(\u001b[38;5;28mself\u001b[39m):\n\u001b[0;32m    827\u001b[0m     \u001b[38;5;124;03m\"\"\"\u001b[39;00m\n\u001b[0;32m    828\u001b[0m \u001b[38;5;124;03m    Parse an expression.\u001b[39;00m\n\u001b[0;32m    829\u001b[0m \u001b[38;5;124;03m    \"\"\"\u001b[39;00m\n\u001b[1;32m--> 830\u001b[0m     \u001b[38;5;28;01mreturn\u001b[39;00m \u001b[38;5;28;43mself\u001b[39;49m\u001b[38;5;241;43m.\u001b[39;49m\u001b[43m_visitor\u001b[49m\u001b[38;5;241;43m.\u001b[39;49m\u001b[43mvisit\u001b[49m\u001b[43m(\u001b[49m\u001b[38;5;28;43mself\u001b[39;49m\u001b[38;5;241;43m.\u001b[39;49m\u001b[43mexpr\u001b[49m\u001b[43m)\u001b[49m\n",
      "File \u001b[1;32m~\\anaconda3\\lib\\site-packages\\pandas\\core\\computation\\expr.py:415\u001b[0m, in \u001b[0;36mBaseExprVisitor.visit\u001b[1;34m(self, node, **kwargs)\u001b[0m\n\u001b[0;32m    413\u001b[0m method \u001b[38;5;241m=\u001b[39m \u001b[38;5;124m\"\u001b[39m\u001b[38;5;124mvisit_\u001b[39m\u001b[38;5;124m\"\u001b[39m \u001b[38;5;241m+\u001b[39m \u001b[38;5;28mtype\u001b[39m(node)\u001b[38;5;241m.\u001b[39m\u001b[38;5;18m__name__\u001b[39m\n\u001b[0;32m    414\u001b[0m visitor \u001b[38;5;241m=\u001b[39m \u001b[38;5;28mgetattr\u001b[39m(\u001b[38;5;28mself\u001b[39m, method)\n\u001b[1;32m--> 415\u001b[0m \u001b[38;5;28;01mreturn\u001b[39;00m visitor(node, \u001b[38;5;241m*\u001b[39m\u001b[38;5;241m*\u001b[39mkwargs)\n",
      "File \u001b[1;32m~\\anaconda3\\lib\\site-packages\\pandas\\core\\computation\\expr.py:421\u001b[0m, in \u001b[0;36mBaseExprVisitor.visit_Module\u001b[1;34m(self, node, **kwargs)\u001b[0m\n\u001b[0;32m    419\u001b[0m     \u001b[38;5;28;01mraise\u001b[39;00m \u001b[38;5;167;01mSyntaxError\u001b[39;00m(\u001b[38;5;124m\"\u001b[39m\u001b[38;5;124monly a single expression is allowed\u001b[39m\u001b[38;5;124m\"\u001b[39m)\n\u001b[0;32m    420\u001b[0m expr \u001b[38;5;241m=\u001b[39m node\u001b[38;5;241m.\u001b[39mbody[\u001b[38;5;241m0\u001b[39m]\n\u001b[1;32m--> 421\u001b[0m \u001b[38;5;28;01mreturn\u001b[39;00m \u001b[38;5;28mself\u001b[39m\u001b[38;5;241m.\u001b[39mvisit(expr, \u001b[38;5;241m*\u001b[39m\u001b[38;5;241m*\u001b[39mkwargs)\n",
      "File \u001b[1;32m~\\anaconda3\\lib\\site-packages\\pandas\\core\\computation\\expr.py:415\u001b[0m, in \u001b[0;36mBaseExprVisitor.visit\u001b[1;34m(self, node, **kwargs)\u001b[0m\n\u001b[0;32m    413\u001b[0m method \u001b[38;5;241m=\u001b[39m \u001b[38;5;124m\"\u001b[39m\u001b[38;5;124mvisit_\u001b[39m\u001b[38;5;124m\"\u001b[39m \u001b[38;5;241m+\u001b[39m \u001b[38;5;28mtype\u001b[39m(node)\u001b[38;5;241m.\u001b[39m\u001b[38;5;18m__name__\u001b[39m\n\u001b[0;32m    414\u001b[0m visitor \u001b[38;5;241m=\u001b[39m \u001b[38;5;28mgetattr\u001b[39m(\u001b[38;5;28mself\u001b[39m, method)\n\u001b[1;32m--> 415\u001b[0m \u001b[38;5;28;01mreturn\u001b[39;00m visitor(node, \u001b[38;5;241m*\u001b[39m\u001b[38;5;241m*\u001b[39mkwargs)\n",
      "File \u001b[1;32m~\\anaconda3\\lib\\site-packages\\pandas\\core\\computation\\expr.py:424\u001b[0m, in \u001b[0;36mBaseExprVisitor.visit_Expr\u001b[1;34m(self, node, **kwargs)\u001b[0m\n\u001b[0;32m    423\u001b[0m \u001b[38;5;28;01mdef\u001b[39;00m \u001b[38;5;21mvisit_Expr\u001b[39m(\u001b[38;5;28mself\u001b[39m, node, \u001b[38;5;241m*\u001b[39m\u001b[38;5;241m*\u001b[39mkwargs):\n\u001b[1;32m--> 424\u001b[0m     \u001b[38;5;28;01mreturn\u001b[39;00m \u001b[38;5;28mself\u001b[39m\u001b[38;5;241m.\u001b[39mvisit(node\u001b[38;5;241m.\u001b[39mvalue, \u001b[38;5;241m*\u001b[39m\u001b[38;5;241m*\u001b[39mkwargs)\n",
      "File \u001b[1;32m~\\anaconda3\\lib\\site-packages\\pandas\\core\\computation\\expr.py:415\u001b[0m, in \u001b[0;36mBaseExprVisitor.visit\u001b[1;34m(self, node, **kwargs)\u001b[0m\n\u001b[0;32m    413\u001b[0m method \u001b[38;5;241m=\u001b[39m \u001b[38;5;124m\"\u001b[39m\u001b[38;5;124mvisit_\u001b[39m\u001b[38;5;124m\"\u001b[39m \u001b[38;5;241m+\u001b[39m \u001b[38;5;28mtype\u001b[39m(node)\u001b[38;5;241m.\u001b[39m\u001b[38;5;18m__name__\u001b[39m\n\u001b[0;32m    414\u001b[0m visitor \u001b[38;5;241m=\u001b[39m \u001b[38;5;28mgetattr\u001b[39m(\u001b[38;5;28mself\u001b[39m, method)\n\u001b[1;32m--> 415\u001b[0m \u001b[38;5;28;01mreturn\u001b[39;00m visitor(node, \u001b[38;5;241m*\u001b[39m\u001b[38;5;241m*\u001b[39mkwargs)\n",
      "File \u001b[1;32m~\\anaconda3\\lib\\site-packages\\pandas\\core\\computation\\expr.py:723\u001b[0m, in \u001b[0;36mBaseExprVisitor.visit_Compare\u001b[1;34m(self, node, **kwargs)\u001b[0m\n\u001b[0;32m    721\u001b[0m     op \u001b[38;5;241m=\u001b[39m \u001b[38;5;28mself\u001b[39m\u001b[38;5;241m.\u001b[39mtranslate_In(ops[\u001b[38;5;241m0\u001b[39m])\n\u001b[0;32m    722\u001b[0m     binop \u001b[38;5;241m=\u001b[39m ast\u001b[38;5;241m.\u001b[39mBinOp(op\u001b[38;5;241m=\u001b[39mop, left\u001b[38;5;241m=\u001b[39mnode\u001b[38;5;241m.\u001b[39mleft, right\u001b[38;5;241m=\u001b[39mcomps[\u001b[38;5;241m0\u001b[39m])\n\u001b[1;32m--> 723\u001b[0m     \u001b[38;5;28;01mreturn\u001b[39;00m \u001b[38;5;28;43mself\u001b[39;49m\u001b[38;5;241;43m.\u001b[39;49m\u001b[43mvisit\u001b[49m\u001b[43m(\u001b[49m\u001b[43mbinop\u001b[49m\u001b[43m)\u001b[49m\n\u001b[0;32m    725\u001b[0m \u001b[38;5;66;03m# recursive case: we have a chained comparison, a CMP b CMP c, etc.\u001b[39;00m\n\u001b[0;32m    726\u001b[0m left \u001b[38;5;241m=\u001b[39m node\u001b[38;5;241m.\u001b[39mleft\n",
      "File \u001b[1;32m~\\anaconda3\\lib\\site-packages\\pandas\\core\\computation\\expr.py:415\u001b[0m, in \u001b[0;36mBaseExprVisitor.visit\u001b[1;34m(self, node, **kwargs)\u001b[0m\n\u001b[0;32m    413\u001b[0m method \u001b[38;5;241m=\u001b[39m \u001b[38;5;124m\"\u001b[39m\u001b[38;5;124mvisit_\u001b[39m\u001b[38;5;124m\"\u001b[39m \u001b[38;5;241m+\u001b[39m \u001b[38;5;28mtype\u001b[39m(node)\u001b[38;5;241m.\u001b[39m\u001b[38;5;18m__name__\u001b[39m\n\u001b[0;32m    414\u001b[0m visitor \u001b[38;5;241m=\u001b[39m \u001b[38;5;28mgetattr\u001b[39m(\u001b[38;5;28mself\u001b[39m, method)\n\u001b[1;32m--> 415\u001b[0m \u001b[38;5;28;01mreturn\u001b[39;00m visitor(node, \u001b[38;5;241m*\u001b[39m\u001b[38;5;241m*\u001b[39mkwargs)\n",
      "File \u001b[1;32m~\\anaconda3\\lib\\site-packages\\pandas\\core\\computation\\expr.py:536\u001b[0m, in \u001b[0;36mBaseExprVisitor.visit_BinOp\u001b[1;34m(self, node, **kwargs)\u001b[0m\n\u001b[0;32m    535\u001b[0m \u001b[38;5;28;01mdef\u001b[39;00m \u001b[38;5;21mvisit_BinOp\u001b[39m(\u001b[38;5;28mself\u001b[39m, node, \u001b[38;5;241m*\u001b[39m\u001b[38;5;241m*\u001b[39mkwargs):\n\u001b[1;32m--> 536\u001b[0m     op, op_class, left, right \u001b[38;5;241m=\u001b[39m \u001b[38;5;28;43mself\u001b[39;49m\u001b[38;5;241;43m.\u001b[39;49m\u001b[43m_maybe_transform_eq_ne\u001b[49m\u001b[43m(\u001b[49m\u001b[43mnode\u001b[49m\u001b[43m)\u001b[49m\n\u001b[0;32m    537\u001b[0m     left, right \u001b[38;5;241m=\u001b[39m \u001b[38;5;28mself\u001b[39m\u001b[38;5;241m.\u001b[39m_maybe_downcast_constants(left, right)\n\u001b[0;32m    538\u001b[0m     \u001b[38;5;28;01mreturn\u001b[39;00m \u001b[38;5;28mself\u001b[39m\u001b[38;5;241m.\u001b[39m_maybe_evaluate_binop(op, op_class, left, right)\n",
      "File \u001b[1;32m~\\anaconda3\\lib\\site-packages\\pandas\\core\\computation\\expr.py:456\u001b[0m, in \u001b[0;36mBaseExprVisitor._maybe_transform_eq_ne\u001b[1;34m(self, node, left, right)\u001b[0m\n\u001b[0;32m    454\u001b[0m \u001b[38;5;28;01mdef\u001b[39;00m \u001b[38;5;21m_maybe_transform_eq_ne\u001b[39m(\u001b[38;5;28mself\u001b[39m, node, left\u001b[38;5;241m=\u001b[39m\u001b[38;5;28;01mNone\u001b[39;00m, right\u001b[38;5;241m=\u001b[39m\u001b[38;5;28;01mNone\u001b[39;00m):\n\u001b[0;32m    455\u001b[0m     \u001b[38;5;28;01mif\u001b[39;00m left \u001b[38;5;129;01mis\u001b[39;00m \u001b[38;5;28;01mNone\u001b[39;00m:\n\u001b[1;32m--> 456\u001b[0m         left \u001b[38;5;241m=\u001b[39m \u001b[38;5;28;43mself\u001b[39;49m\u001b[38;5;241;43m.\u001b[39;49m\u001b[43mvisit\u001b[49m\u001b[43m(\u001b[49m\u001b[43mnode\u001b[49m\u001b[38;5;241;43m.\u001b[39;49m\u001b[43mleft\u001b[49m\u001b[43m,\u001b[49m\u001b[43m \u001b[49m\u001b[43mside\u001b[49m\u001b[38;5;241;43m=\u001b[39;49m\u001b[38;5;124;43m\"\u001b[39;49m\u001b[38;5;124;43mleft\u001b[39;49m\u001b[38;5;124;43m\"\u001b[39;49m\u001b[43m)\u001b[49m\n\u001b[0;32m    457\u001b[0m     \u001b[38;5;28;01mif\u001b[39;00m right \u001b[38;5;129;01mis\u001b[39;00m \u001b[38;5;28;01mNone\u001b[39;00m:\n\u001b[0;32m    458\u001b[0m         right \u001b[38;5;241m=\u001b[39m \u001b[38;5;28mself\u001b[39m\u001b[38;5;241m.\u001b[39mvisit(node\u001b[38;5;241m.\u001b[39mright, side\u001b[38;5;241m=\u001b[39m\u001b[38;5;124m\"\u001b[39m\u001b[38;5;124mright\u001b[39m\u001b[38;5;124m\"\u001b[39m)\n",
      "File \u001b[1;32m~\\anaconda3\\lib\\site-packages\\pandas\\core\\computation\\expr.py:415\u001b[0m, in \u001b[0;36mBaseExprVisitor.visit\u001b[1;34m(self, node, **kwargs)\u001b[0m\n\u001b[0;32m    413\u001b[0m method \u001b[38;5;241m=\u001b[39m \u001b[38;5;124m\"\u001b[39m\u001b[38;5;124mvisit_\u001b[39m\u001b[38;5;124m\"\u001b[39m \u001b[38;5;241m+\u001b[39m \u001b[38;5;28mtype\u001b[39m(node)\u001b[38;5;241m.\u001b[39m\u001b[38;5;18m__name__\u001b[39m\n\u001b[0;32m    414\u001b[0m visitor \u001b[38;5;241m=\u001b[39m \u001b[38;5;28mgetattr\u001b[39m(\u001b[38;5;28mself\u001b[39m, method)\n\u001b[1;32m--> 415\u001b[0m \u001b[38;5;28;01mreturn\u001b[39;00m visitor(node, \u001b[38;5;241m*\u001b[39m\u001b[38;5;241m*\u001b[39mkwargs)\n",
      "File \u001b[1;32m~\\anaconda3\\lib\\site-packages\\pandas\\core\\computation\\expr.py:549\u001b[0m, in \u001b[0;36mBaseExprVisitor.visit_Name\u001b[1;34m(self, node, **kwargs)\u001b[0m\n\u001b[0;32m    548\u001b[0m \u001b[38;5;28;01mdef\u001b[39;00m \u001b[38;5;21mvisit_Name\u001b[39m(\u001b[38;5;28mself\u001b[39m, node, \u001b[38;5;241m*\u001b[39m\u001b[38;5;241m*\u001b[39mkwargs):\n\u001b[1;32m--> 549\u001b[0m     \u001b[38;5;28;01mreturn\u001b[39;00m \u001b[38;5;28mself\u001b[39m\u001b[38;5;241m.\u001b[39mterm_type(node\u001b[38;5;241m.\u001b[39mid, \u001b[38;5;28mself\u001b[39m\u001b[38;5;241m.\u001b[39menv, \u001b[38;5;241m*\u001b[39m\u001b[38;5;241m*\u001b[39mkwargs)\n",
      "File \u001b[1;32m~\\anaconda3\\lib\\site-packages\\pandas\\core\\computation\\ops.py:98\u001b[0m, in \u001b[0;36mTerm.__init__\u001b[1;34m(self, name, env, side, encoding)\u001b[0m\n\u001b[0;32m     96\u001b[0m tname \u001b[38;5;241m=\u001b[39m \u001b[38;5;28mstr\u001b[39m(name)\n\u001b[0;32m     97\u001b[0m \u001b[38;5;28mself\u001b[39m\u001b[38;5;241m.\u001b[39mis_local \u001b[38;5;241m=\u001b[39m tname\u001b[38;5;241m.\u001b[39mstartswith(LOCAL_TAG) \u001b[38;5;129;01mor\u001b[39;00m tname \u001b[38;5;129;01min\u001b[39;00m DEFAULT_GLOBALS\n\u001b[1;32m---> 98\u001b[0m \u001b[38;5;28mself\u001b[39m\u001b[38;5;241m.\u001b[39m_value \u001b[38;5;241m=\u001b[39m \u001b[38;5;28;43mself\u001b[39;49m\u001b[38;5;241;43m.\u001b[39;49m\u001b[43m_resolve_name\u001b[49m\u001b[43m(\u001b[49m\u001b[43m)\u001b[49m\n\u001b[0;32m     99\u001b[0m \u001b[38;5;28mself\u001b[39m\u001b[38;5;241m.\u001b[39mencoding \u001b[38;5;241m=\u001b[39m encoding\n",
      "File \u001b[1;32m~\\anaconda3\\lib\\site-packages\\pandas\\core\\computation\\ops.py:115\u001b[0m, in \u001b[0;36mTerm._resolve_name\u001b[1;34m(self)\u001b[0m\n\u001b[0;32m    114\u001b[0m \u001b[38;5;28;01mdef\u001b[39;00m \u001b[38;5;21m_resolve_name\u001b[39m(\u001b[38;5;28mself\u001b[39m):\n\u001b[1;32m--> 115\u001b[0m     res \u001b[38;5;241m=\u001b[39m \u001b[38;5;28;43mself\u001b[39;49m\u001b[38;5;241;43m.\u001b[39;49m\u001b[43menv\u001b[49m\u001b[38;5;241;43m.\u001b[39;49m\u001b[43mresolve\u001b[49m\u001b[43m(\u001b[49m\u001b[38;5;28;43mself\u001b[39;49m\u001b[38;5;241;43m.\u001b[39;49m\u001b[43mlocal_name\u001b[49m\u001b[43m,\u001b[49m\u001b[43m \u001b[49m\u001b[43mis_local\u001b[49m\u001b[38;5;241;43m=\u001b[39;49m\u001b[38;5;28;43mself\u001b[39;49m\u001b[38;5;241;43m.\u001b[39;49m\u001b[43mis_local\u001b[49m\u001b[43m)\u001b[49m\n\u001b[0;32m    116\u001b[0m     \u001b[38;5;28mself\u001b[39m\u001b[38;5;241m.\u001b[39mupdate(res)\n\u001b[0;32m    118\u001b[0m     \u001b[38;5;28;01mif\u001b[39;00m \u001b[38;5;28mhasattr\u001b[39m(res, \u001b[38;5;124m\"\u001b[39m\u001b[38;5;124mndim\u001b[39m\u001b[38;5;124m\"\u001b[39m) \u001b[38;5;129;01mand\u001b[39;00m res\u001b[38;5;241m.\u001b[39mndim \u001b[38;5;241m>\u001b[39m \u001b[38;5;241m2\u001b[39m:\n",
      "File \u001b[1;32m~\\anaconda3\\lib\\site-packages\\pandas\\core\\computation\\scope.py:211\u001b[0m, in \u001b[0;36mScope.resolve\u001b[1;34m(self, key, is_local)\u001b[0m\n\u001b[0;32m    207\u001b[0m \u001b[38;5;28;01mexcept\u001b[39;00m \u001b[38;5;167;01mKeyError\u001b[39;00m \u001b[38;5;28;01mas\u001b[39;00m err:\n\u001b[0;32m    208\u001b[0m     \u001b[38;5;66;03m# runtime import because ops imports from scope\u001b[39;00m\n\u001b[0;32m    209\u001b[0m     \u001b[38;5;28;01mfrom\u001b[39;00m \u001b[38;5;21;01mpandas\u001b[39;00m\u001b[38;5;21;01m.\u001b[39;00m\u001b[38;5;21;01mcore\u001b[39;00m\u001b[38;5;21;01m.\u001b[39;00m\u001b[38;5;21;01mcomputation\u001b[39;00m\u001b[38;5;21;01m.\u001b[39;00m\u001b[38;5;21;01mops\u001b[39;00m \u001b[38;5;28;01mimport\u001b[39;00m UndefinedVariableError\n\u001b[1;32m--> 211\u001b[0m     \u001b[38;5;28;01mraise\u001b[39;00m UndefinedVariableError(key, is_local) \u001b[38;5;28;01mfrom\u001b[39;00m \u001b[38;5;21;01merr\u001b[39;00m\n",
      "\u001b[1;31mUndefinedVariableError\u001b[0m: name 'filmeId' is not defined"
     ]
    }
   ],
   "source": [
    "notas_do_toy_story = notas.query(\"filmeId==1\")\n",
    "notas_do_jumanji = notas.query(\"filmeId==2\")\n",
    "print(len(notas_do_toy_story), len(notas_do_jumanji))\n",
    "\n"
   ]
  },
  {
   "cell_type": "code",
   "execution_count": null,
   "id": "84f27e42",
   "metadata": {},
   "outputs": [],
   "source": []
  }
 ],
 "metadata": {
  "kernelspec": {
   "display_name": "Python 3 (ipykernel)",
   "language": "python",
   "name": "python3"
  },
  "language_info": {
   "codemirror_mode": {
    "name": "ipython",
    "version": 3
   },
   "file_extension": ".py",
   "mimetype": "text/x-python",
   "name": "python",
   "nbconvert_exporter": "python",
   "pygments_lexer": "ipython3",
   "version": "3.9.12"
  }
 },
 "nbformat": 4,
 "nbformat_minor": 5
}
